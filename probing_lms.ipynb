{
 "cells": [
  {
   "cell_type": "markdown",
   "metadata": {},
   "source": [
    "__Probing Language Models__\n",
    "\n",
    "This notebook serves as a start for your NLP2 assignment on probing Language Models. This notebook will become part of the contents that you will submit at the end, so make sure to keep your code (somewhat) clean :-)\n",
    "\n",
    "__note__: This assignment is not dependent on big fancy GPUs. I run all this stuff on my own 3 year old CPU, without any Colab hassle. So it's up to you to decide how you want to run it."
   ]
  },
  {
   "cell_type": "markdown",
   "metadata": {},
   "source": [
    "# Models\n",
    "\n",
    "For the Transformer models you are advised to make use of the `transformers` library of Huggingface: https://github.com/huggingface/transformers\n",
    "Their library is well documented, and they provide great tools to easily load in pre-trained models."
   ]
  },
  {
   "cell_type": "code",
   "execution_count": 1,
   "metadata": {},
   "outputs": [
    {
     "name": "stdout",
     "output_type": "stream",
     "text": [
      "Requirement already satisfied: sentencepiece in c:\\users\\cinth\\documentos\\ams\\data_science\\y1\\nlp2\\dataspell1\\nlp2-probing-lms\\venv\\lib\\site-packages (0.1.98)\n"
     ]
    },
    {
     "name": "stderr",
     "output_type": "stream",
     "text": [
      "C:\\Users\\cinth\\Documentos\\ams\\data_science\\y1\\nlp2\\dataspell1\\nlp2-probing-lms\\venv\\lib\\site-packages\\transformers\\generation_utils.py:24: FutureWarning: Importing `GenerationMixin` from `src/transformers/generation_utils.py` is deprecated and will be removed in Transformers v5. Import as `from transformers import GenerationMixin` instead.\n",
      "  warnings.warn(\n",
      "loading file vocab.json from cache at C:\\Users\\cinth/.cache\\huggingface\\hub\\models--distilgpt2\\snapshots\\f241065e938b44ac52db2c5de82c8bd2fafc76d0\\vocab.json\n",
      "loading file merges.txt from cache at C:\\Users\\cinth/.cache\\huggingface\\hub\\models--distilgpt2\\snapshots\\f241065e938b44ac52db2c5de82c8bd2fafc76d0\\merges.txt\n",
      "loading file added_tokens.json from cache at None\n",
      "loading file special_tokens_map.json from cache at None\n",
      "loading file tokenizer_config.json from cache at None\n",
      "loading configuration file config.json from cache at C:\\Users\\cinth/.cache\\huggingface\\hub\\models--distilgpt2\\snapshots\\f241065e938b44ac52db2c5de82c8bd2fafc76d0\\config.json\n",
      "Model config GPT2Config {\n",
      "  \"_name_or_path\": \"distilgpt2\",\n",
      "  \"_num_labels\": 1,\n",
      "  \"activation_function\": \"gelu_new\",\n",
      "  \"architectures\": [\n",
      "    \"GPT2LMHeadModel\"\n",
      "  ],\n",
      "  \"attn_pdrop\": 0.1,\n",
      "  \"bos_token_id\": 50256,\n",
      "  \"embd_pdrop\": 0.1,\n",
      "  \"eos_token_id\": 50256,\n",
      "  \"id2label\": {\n",
      "    \"0\": \"LABEL_0\"\n",
      "  },\n",
      "  \"initializer_range\": 0.02,\n",
      "  \"label2id\": {\n",
      "    \"LABEL_0\": 0\n",
      "  },\n",
      "  \"layer_norm_epsilon\": 1e-05,\n",
      "  \"model_type\": \"gpt2\",\n",
      "  \"n_ctx\": 1024,\n",
      "  \"n_embd\": 768,\n",
      "  \"n_head\": 12,\n",
      "  \"n_inner\": null,\n",
      "  \"n_layer\": 6,\n",
      "  \"n_positions\": 1024,\n",
      "  \"reorder_and_upcast_attn\": false,\n",
      "  \"resid_pdrop\": 0.1,\n",
      "  \"scale_attn_by_inverse_layer_idx\": false,\n",
      "  \"scale_attn_weights\": true,\n",
      "  \"summary_activation\": null,\n",
      "  \"summary_first_dropout\": 0.1,\n",
      "  \"summary_proj_to_labels\": true,\n",
      "  \"summary_type\": \"cls_index\",\n",
      "  \"summary_use_proj\": true,\n",
      "  \"task_specific_params\": {\n",
      "    \"text-generation\": {\n",
      "      \"do_sample\": true,\n",
      "      \"max_length\": 50\n",
      "    }\n",
      "  },\n",
      "  \"transformers_version\": \"4.28.1\",\n",
      "  \"use_cache\": true,\n",
      "  \"vocab_size\": 50257\n",
      "}\n",
      "\n",
      "loading configuration file config.json from cache at C:\\Users\\cinth/.cache\\huggingface\\hub\\models--distilgpt2\\snapshots\\f241065e938b44ac52db2c5de82c8bd2fafc76d0\\config.json\n",
      "Model config GPT2Config {\n",
      "  \"_num_labels\": 1,\n",
      "  \"activation_function\": \"gelu_new\",\n",
      "  \"architectures\": [\n",
      "    \"GPT2LMHeadModel\"\n",
      "  ],\n",
      "  \"attn_pdrop\": 0.1,\n",
      "  \"bos_token_id\": 50256,\n",
      "  \"embd_pdrop\": 0.1,\n",
      "  \"eos_token_id\": 50256,\n",
      "  \"id2label\": {\n",
      "    \"0\": \"LABEL_0\"\n",
      "  },\n",
      "  \"initializer_range\": 0.02,\n",
      "  \"label2id\": {\n",
      "    \"LABEL_0\": 0\n",
      "  },\n",
      "  \"layer_norm_epsilon\": 1e-05,\n",
      "  \"model_type\": \"gpt2\",\n",
      "  \"n_ctx\": 1024,\n",
      "  \"n_embd\": 768,\n",
      "  \"n_head\": 12,\n",
      "  \"n_inner\": null,\n",
      "  \"n_layer\": 6,\n",
      "  \"n_positions\": 1024,\n",
      "  \"reorder_and_upcast_attn\": false,\n",
      "  \"resid_pdrop\": 0.1,\n",
      "  \"scale_attn_by_inverse_layer_idx\": false,\n",
      "  \"scale_attn_weights\": true,\n",
      "  \"summary_activation\": null,\n",
      "  \"summary_first_dropout\": 0.1,\n",
      "  \"summary_proj_to_labels\": true,\n",
      "  \"summary_type\": \"cls_index\",\n",
      "  \"summary_use_proj\": true,\n",
      "  \"task_specific_params\": {\n",
      "    \"text-generation\": {\n",
      "      \"do_sample\": true,\n",
      "      \"max_length\": 50\n",
      "    }\n",
      "  },\n",
      "  \"transformers_version\": \"4.28.1\",\n",
      "  \"use_cache\": true,\n",
      "  \"vocab_size\": 50257\n",
      "}\n",
      "\n",
      "loading weights file pytorch_model.bin from cache at C:\\Users\\cinth/.cache\\huggingface\\hub\\models--distilgpt2\\snapshots\\f241065e938b44ac52db2c5de82c8bd2fafc76d0\\pytorch_model.bin\n",
      "Generate config GenerationConfig {\n",
      "  \"_from_model_config\": true,\n",
      "  \"bos_token_id\": 50256,\n",
      "  \"eos_token_id\": 50256,\n",
      "  \"transformers_version\": \"4.28.1\"\n",
      "}\n",
      "\n",
      "All model checkpoint weights were used when initializing GPT2LMHeadModel.\n",
      "\n",
      "All the weights of GPT2LMHeadModel were initialized from the model checkpoint at distilgpt2.\n",
      "If your task is similar to the task the model of the checkpoint was trained on, you can already use GPT2LMHeadModel for predictions without further training.\n",
      "loading configuration file generation_config.json from cache at C:\\Users\\cinth/.cache\\huggingface\\hub\\models--distilgpt2\\snapshots\\f241065e938b44ac52db2c5de82c8bd2fafc76d0\\generation_config.json\n",
      "Generate config GenerationConfig {\n",
      "  \"_from_model_config\": true,\n",
      "  \"bos_token_id\": 50256,\n",
      "  \"eos_token_id\": 50256,\n",
      "  \"transformers_version\": \"4.28.1\"\n",
      "}\n",
      "\n"
     ]
    }
   ],
   "source": [
    "#\n",
    "## Your code for initializing the transformer model(s)\n",
    "#\n",
    "# Note that transformer models use their own `tokenizer`, that should be loaded in as well.\n",
    "#\n",
    "!pip install sentencepiece\n",
    "from transformers import *\n",
    "\n",
    "tokenizer = GPT2Tokenizer.from_pretrained('distilgpt2') #tokenizer of gpt2\n",
    "model = GPT2LMHeadModel.from_pretrained('distilgpt2')"
   ]
  },
  {
   "cell_type": "code",
   "execution_count": 2,
   "metadata": {},
   "outputs": [],
   "source": [
    "#\n",
    "## Your code for initializing the rnn model(s)\n",
    "#\n",
    "# The Gulordava LSTM model can be found here: \n",
    "# https://drive.google.com/file/d/19Lp3AM4NEPycp_IBgoHfLc_V456pmUom/view?usp=sharing\n",
    "# You can read more about this model in the original paper here: https://arxiv.org/pdf/1803.11138.pdf\n",
    "#\n",
    "# N.B: I have altered the RNNModel code to only output the hidden states that you are interested in.\n",
    "# If you want to do more experiments with this model you could have a look at the original code here:\n",
    "# https://github.com/facebookresearch/colorlessgreenRNNs/blob/master/src/language_models/model.py\n",
    "#\n",
    "from collections import defaultdict\n",
    "from lstm.model import RNNModel\n",
    "import torch\n",
    "\n",
    "\n",
    "model_location = './state_dict.pt'  # <- point this to the location of the Gulordava .pt file\n",
    "lstm = RNNModel('LSTM', 50001, 650, 650, 2) #50001 words, 650 hidden units, 650 hidden units, 2 layers\n",
    "lstm.load_state_dict(torch.load(model_location))\n",
    "\n",
    "\n",
    "# This LSTM does not use a Tokenizer like the Transformers, but a Vocab dictionary that maps a token to an id.\n",
    "with open('lstm/vocab.txt', encoding='utf8') as f:\n",
    "    w2i = {w.strip(): i for i, w in enumerate(f)} #cleaning leading or trailining whitespace characters\n",
    "\n",
    "vocab = defaultdict(lambda: w2i[\"<unk>\"])\n",
    "vocab.update(w2i)"
   ]
  },
  {
   "cell_type": "code",
   "execution_count": 3,
   "outputs": [
    {
     "name": "stdout",
     "output_type": "stream",
     "text": [
      "987\n"
     ]
    }
   ],
   "source": [
    "print(vocab['layout'])"
   ],
   "metadata": {
    "collapsed": false
   }
  },
  {
   "cell_type": "code",
   "execution_count": 4,
   "outputs": [
    {
     "data": {
      "text/plain": "defaultdict(<function __main__.<lambda>()>,\n            {'She': 0,\n             'focused': 1,\n             'on': 2,\n             'the': 3,\n             'major': 4,\n             'themes': 5,\n             'she': 6,\n             'enjoyed': 7,\n             ':': 8,\n             'wild': 9,\n             'animals': 10,\n             ',': 11,\n             'nature': 12,\n             'feminist': 13,\n             'heroes': 14,\n             'and': 15,\n             'filming': 16,\n             'location': 17,\n             '.': 18,\n             '<eos>': 19,\n             'After': 20,\n             'Donald': 21,\n             'Trump': 22,\n             'became': 23,\n             'presumptive': 24,\n             'nominee': 25,\n             'for': 26,\n             'Republic': 27,\n             'Party': 28,\n             'in': 29,\n             'May': 30,\n             '2016': 31,\n             'Walker': 32,\n             'stated': 33,\n             'that': 34,\n             'he': 35,\n             'would': 36,\n             'support': 37,\n             'as': 38,\n             'Republican': 39,\n             'saying': 40,\n             'make': 41,\n             'a': 42,\n             'better': 43,\n             'president': 44,\n             'than': 45,\n             'Hillary': 46,\n             'Clinton': 47,\n             'Tourism': 48,\n             'is': 49,\n             'described': 50,\n             'nearby': 51,\n             'places': 52,\n             'of': 53,\n             'interest': 54,\n             'below': 55,\n             'with': 56,\n             'details': 57,\n             'surrounding': 58,\n             'historic': 59,\n             'landscape': 60,\n             'attractions': 61,\n             '<unk>': 62,\n             'located': 63,\n             'at': 64,\n             '(': 65,\n             ')': 66,\n             'They': 67,\n             'had': 68,\n             'ambition': 69,\n             'to': 70,\n             'add': 71,\n             'two': 72,\n             'new': 73,\n             'floors': 74,\n             'but': 75,\n             'because': 76,\n             'Nazi': 77,\n             'rise': 78,\n             'power': 79,\n             '1930s': 80,\n             'their': 81,\n             'plans': 82,\n             'came': 83,\n             'sudden': 84,\n             'halt': 85,\n             'Investments': 86,\n             'address': 87,\n             'it': 88,\n             'have': 89,\n             'increased': 90,\n             'remain': 91,\n             'far': 92,\n             'from': 93,\n             'being': 94,\n             'sufficient': 95,\n             'solve': 96,\n             'unleash': 97,\n             'human': 98,\n             'potential': 99,\n             'remains': 100,\n             'trapped': 101,\n             'malnutrition': 102,\n             'Until': 103,\n             'five': 104,\n             'years': 105,\n             'ago': 106,\n             '2009': 107,\n             'worked': 108,\n             'Yates': 109,\n             \"'\": 110,\n             'Wine': 111,\n             'Lodge': 112,\n             'Liverpool': 113,\n             '\"': 114,\n             'meeting': 115,\n             'greeting': 116,\n             'On': 117,\n             'limited': 118,\n             'number': 119,\n             'occasions': 120,\n             'underwent': 121,\n             'locomotive': 122,\n             'shortages': 123,\n             'leased': 124,\n             'A': 125,\n             'classes': 126,\n             'Freight': 127,\n             'Australia': 128,\n             'later': 129,\n             'Pacific': 130,\n             'National': 131,\n             'appearing': 132,\n             'train': 133,\n             'green': 134,\n             'yellow': 135,\n             'livery': 136,\n             'It': 137,\n             'was': 138,\n             'Barrett': 139,\n             'remained': 140,\n             'until': 141,\n             '1943': 142,\n             'exercise': 143,\n             'own': 144,\n             'police': 145,\n             'The': 146,\n             'first': 147,\n             'Australian': 148,\n             'challenge': 149,\n             '1962': 150,\n             'when': 151,\n             'lost': 152,\n             \"'s\": 153,\n             'designed': 154,\n             'by': 155,\n             'Philip': 156,\n             'Rhodes': 157,\n             'At': 158,\n             'beginning': 159,\n             'World': 160,\n             'War': 161,\n             'I': 162,\n             'Japan': 163,\n             'assumed': 164,\n             'control': 165,\n             'Marshall': 166,\n             'Islands': 167,\n             'He': 168,\n             'founding': 169,\n             'member': 170,\n             'Independence': 171,\n             'served': 172,\n             'minister': 173,\n             'Justice': 174,\n             'government': 175,\n             'participated': 176,\n             '1932': 177,\n             '1934': 178,\n             'used': 179,\n             'baked': 180,\n             'goods': 181,\n             'frozen': 182,\n             'dairy': 183,\n             'products': 184,\n             'agent': 185,\n             'soft': 186,\n             'drinks': 187,\n             'Prevention': 188,\n             'actions': 189,\n             'or': 190,\n             'production': 191,\n             'estrogen': 192,\n             'body': 193,\n             'treatment': 194,\n             'these': 195,\n             'cancers': 196,\n             'This': 197,\n             'qualified': 198,\n             'her': 199,\n             'Midwestern': 200,\n             'November': 201,\n             'withdrew': 202,\n             'ended': 203,\n             'season': 204,\n             'did': 205,\n             'not': 206,\n             'feel': 207,\n             'fully': 208,\n             'recovered': 209,\n             'Salt': 210,\n             'mining': 211,\n             'took': 212,\n             'place': 213,\n             'stone': 214,\n             'forts': 215,\n             'were': 216,\n             'built': 217,\n             'fertile': 218,\n             'plains': 219,\n             'near': 220,\n             'rivers': 221,\n             'others': 222,\n             'vicinity': 223,\n             'mines': 224,\n             'where': 225,\n             'iron': 226,\n             'ore': 227,\n             'extracted': 228,\n             'Pugh': 229,\n             'died': 230,\n             '1941': 231,\n             'remaining': 232,\n             'aboard': 233,\n             'sinking': 234,\n             'troop': 235,\n             'ship': 236,\n             'wounded': 237,\n             'military': 238,\n             'personnel': 239,\n             'Clydebank': 240,\n             'founded': 241,\n             'burgh': 242,\n             '18': 243,\n             '1886': 244,\n             'As': 245,\n             'census': 246,\n             '2000': 247,\n             'there': 248,\n             'people': 249,\n             '560': 250,\n             'households': 251,\n             '455': 252,\n             'families': 253,\n             'residing': 254,\n             'CDP': 255,\n             'teenager': 256,\n             'Graham': 257,\n             'attended': 258,\n             'Stony': 259,\n             'Brook': 260,\n             'School': 261,\n             'Christian': 262,\n             'private': 263,\n             'school': 264,\n             'Long': 265,\n             'Island': 266,\n             'New': 267,\n             'York': 268,\n             'finished': 269,\n             'high': 270,\n             'North': 271,\n             'Carolina': 272,\n             'efficient': 273,\n             'called': 274,\n             'capital': 275,\n             'allocation': 276,\n             'line': 277,\n             'its': 278,\n             'formula': 279,\n             'can': 280,\n             'be': 281,\n             'shown': 282,\n             'In': 283,\n             'this': 284,\n             'P': 285,\n             'risky': 286,\n             'assets': 287,\n             'bullet': 288,\n             'F': 289,\n             'asset': 290,\n             'C': 291,\n             'combination': 292,\n             'portfolios': 293,\n             'orbit': 294,\n             'Columbia': 295,\n             'excellent': 296,\n             'condition': 297,\n             'flight': 298,\n             'controllers': 299,\n             'noted': 300,\n             'no': 301,\n             'problems': 302,\n             'spacecraft': 303,\n             'systems': 304,\n             'uniformity': 305,\n             'X': 306,\n             'which': 307,\n             'all': 308,\n             'such': 309,\n             'functions': 310,\n             'are': 311,\n             'uniformly': 312,\n             'continuous': 313,\n             '26': 314,\n             '%': 315,\n             'experienced': 316,\n             'severe': 317,\n             'pain': 318,\n             'while': 319,\n             'moderate': 320,\n             'none': 321,\n             'Religion': 322,\n             'State': 323,\n             'should': 324,\n             'linked': 325,\n             'his': 326,\n             'view': 327,\n             'state': 328,\n             'indispensable': 329,\n             'providing': 330,\n             'justice': 331,\n             'enforcing': 332,\n             'Islamic': 333,\n             'law': 334,\n             'good': 335,\n             'forbidding': 336,\n             'evil': 337,\n             'unifying': 338,\n             'preparing': 339,\n             'society': 340,\n             'conducive': 341,\n             'worship': 342,\n             'God': 343,\n             'June': 344,\n             '2011': 345,\n             'Testament': 346,\n             'began': 347,\n             'recording': 348,\n             'next': 349,\n             'studio': 350,\n             'album': 351,\n             'entitled': 352,\n             'Dark': 353,\n             'Roots': 354,\n             'Earth': 355,\n             'expected': 356,\n             'released': 357,\n             'April': 358,\n             '27': 359,\n             '2012': 360,\n             'beneficial': 361,\n             'preventing': 362,\n             'stains': 363,\n             'surfaces': 364,\n             'bottle': 365,\n             'comes': 366,\n             'contact': 367,\n             'table': 368,\n             'cloths': 369,\n             'counter': 370,\n             'tops': 371,\n             'result': 372,\n             'men': 373,\n             'over': 374,\n             'China': 375,\n             'revolted': 376,\n             'attacking': 377,\n             'officials': 378,\n             'raising': 379,\n             'armies': 380,\n             'declaring': 381,\n             'themselves': 382,\n             'kings': 383,\n             'seized': 384,\n             'territories': 385,\n             'followed': 386,\n             'string': 387,\n             'singles': 388,\n             'focus': 389,\n             'shifted': 390,\n             'cabaret': 391,\n             'rock': 392,\n             'music': 393,\n             'Dolores': 394,\n             'villain': 395,\n             'seduces': 396,\n             'kidnaps': 397,\n             'scientist': 398,\n             'Social': 399,\n             'Credit': 400,\n             '36': 401,\n             '1971': 402,\n             'You': 403,\n             'Catholic': 404,\n             'what': 405,\n             'do': 406,\n             'you': 407,\n             'fear': 408,\n             ';': 409,\n             'worthy': 410,\n             'servant': 411,\n             'Trinity': 412,\n             '?': 413,\n             'convoy': 414,\n             'reached': 415,\n             'outer': 416,\n             'anchorage': 417,\n             'minesweepers': 418,\n             'clearing': 419,\n             'lanes': 420,\n             'main': 421,\n             'Halfway': 422,\n             'through': 423,\n             'song': 424,\n             'David': 425,\n             'Gilmour': 426,\n             'uses': 427,\n             'talk': 428,\n             'box': 429,\n             'guitar': 430,\n             'solo': 431,\n             'mimic': 432,\n             'sound': 433,\n             'pigs': 434,\n             'Township': 435,\n             'Michigan': 436,\n             'charter': 437,\n             'township': 438,\n             'Oakland': 439,\n             'County': 440,\n             'U.S.': 441,\n             'However': 442,\n             'Palazzo': 443,\n             'attacked': 444,\n             'Taylor': 445,\n             'supporting': 446,\n             'Pelosi': 447,\n             'Speaker': 448,\n             'claimed': 449,\n             'voted': 450,\n             'party': 451,\n             'leadership': 452,\n             '82': 453,\n             'percent': 454,\n             'time': 455,\n             '1824': 456,\n             'Prussians': 457,\n             'turned': 458,\n             'childless': 459,\n             'Alexander': 460,\n             'Russia': 461,\n             'adopt': 462,\n             'Elisa': 463,\n             'Russian': 464,\n             'Tsar': 465,\n             'declined': 466,\n             'Or': 467,\n             'if': 468,\n             'really': 469,\n             'great': 470,\n             'will': 471,\n             'we': 472,\n             'like': 473,\n             'those': 474,\n             'humans': 475,\n             'who': 476,\n             'defeat': 477,\n             'With': 478,\n             'strategy': 479,\n             'also': 480,\n             'band': 481,\n             'frequencies': 482,\n             'numbers': 483,\n             'children': 484,\n             'improved': 485,\n             'speech': 486,\n             'perception': 487,\n             'language': 488,\n             'scores': 489,\n             'One': 490,\n             'complaints': 491,\n             'arena': 492,\n             'fans': 493,\n             'too': 494,\n             'away': 495,\n             'action': 496,\n             'never': 497,\n             'produced': 498,\n             'any': 499,\n             'proof': 500,\n             'claims': 501,\n             'independent': 502,\n             'evidence': 503,\n             'them': 504,\n             'Wood': 505,\n             '1768': 506,\n             'business': 507,\n             'carried': 508,\n             'widow': 509,\n             'sons': 510,\n             'grandsons': 511,\n             'under': 512,\n             'name': 513,\n             'Ann': 514,\n             '&': 515,\n             'Sons': 516,\n             'October': 517,\n             '2010': 518,\n             'governor': 519,\n             'Paterson': 520,\n             'signed': 521,\n             'bill': 522,\n             'rendering': 523,\n             'gas': 524,\n             'chambers': 525,\n             'illegal': 526,\n             'use': 527,\n             'humane': 528,\n             'societies': 529,\n             'other': 530,\n             'animal': 531,\n             'shelters': 532,\n             'coat': 533,\n             'an': 534,\n             'overall': 535,\n             'golden': 536,\n             'brown': 537,\n             'color': 538,\n             'may': 539,\n             'interspersed': 540,\n             'black': 541,\n             'hairs': 542,\n             'undersides': 543,\n             'white': 544,\n             'Due': 545,\n             'size': 546,\n             '1966': 547,\n             'diary': 548,\n             'contained': 549,\n             'more': 550,\n             '15,000': 551,\n             'pages': 552,\n             'some': 553,\n             '150': 554,\n             'volumes': 555,\n             'literary': 556,\n             'style': 557,\n             'find': 558,\n             'publisher': 559,\n             'volume': 560,\n             'published': 561,\n             'covering': 562,\n             'life': 563,\n             'single': 564,\n             'peaked': 565,\n             '2': 566,\n             'UK': 567,\n             'selling': 568,\n             'copies': 569,\n             'certified': 570,\n             'Silver': 571,\n             'BPI': 572,\n             'charting': 573,\n             '21': 574,\n             'countries': 575,\n             'worldwide': 576,\n             'Smalley': 577,\n             'born': 578,\n             'Swinton': 579,\n             'Lancashire': 580,\n             'England': 581,\n             'About': 582,\n             '4.0': 583,\n             '5.9': 584,\n             'population': 585,\n             'poverty': 586,\n             'including': 587,\n             '8.4': 588,\n             'age': 589,\n             '14.5': 590,\n             '65': 591,\n             'denies': 592,\n             'Albert': 593,\n             'loan': 594,\n             'instead': 595,\n             'offers': 596,\n             'poison': 597,\n             'allow': 598,\n             'murder': 599,\n             'father': 600,\n             'Steven': 601,\n             'tries': 602,\n             'force': 603,\n             'Betty': 604,\n             'into': 605,\n             'acting': 606,\n             'loving': 607,\n             'wife': 608,\n             'threatening': 609,\n             'investigate': 610,\n             'Adrienne': 611,\n             '’s': 612,\n             'death': 613,\n             'admits': 614,\n             'accident': 615,\n             'scene': 616,\n             'Cole': 617,\n             'destroy': 618,\n             'pair': 619,\n             'rental': 620,\n             'cars': 621,\n             'racing': 622,\n             'city': 623,\n             'streets': 624,\n             'loosely': 625,\n             'referenced': 626,\n             'early': 627,\n             '1950s': 628,\n             'NASCAR': 629,\n             'superstars': 630,\n             'Joe': 631,\n             'Curtis': 632,\n             'Turner': 633,\n             'each': 634,\n             'whom': 635,\n             'known': 636,\n             'rent': 637,\n             'race': 638,\n             'crash': 639,\n             'abandon': 640,\n             'program': 641,\n             'applies': 642,\n             'United': 643,\n             'States': 644,\n             'well': 645,\n             'US': 646,\n             'Puerto': 647,\n             'Rico': 648,\n             'Virgin': 649,\n             'Caribbean': 650,\n             'application': 651,\n             'Secret': 652,\n             'Service': 653,\n             'has': 654,\n             'neither': 655,\n             'confirmed': 656,\n             'nor': 657,\n             'dispelled': 658,\n             'rumor': 659,\n             'Main': 660,\n             'reason': 661,\n             'event': 662,\n             'prove': 663,\n             'point': 664,\n             'stop': 665,\n             'discrimination': 666,\n             'against': 667,\n             'descendants': 668,\n             'ethnic': 669,\n             'groups': 670,\n             'Guatemala': 671,\n             'criticised': 672,\n             'board': 673,\n             'after': 674,\n             'losing': 675,\n             'big': 676,\n             'lead': 677,\n             'eventually': 678,\n             'allowed': 679,\n             'coach': 680,\n             'just': 681,\n             '8,500': 682,\n             'tons': 683,\n             'full': 684,\n             'load': 685,\n             'smallest': 686,\n             'nuclear-powered': 687,\n             'surface': 688,\n             'vessel': 689,\n             'Navy': 690,\n             'All': 691,\n             'wanted': 692,\n             'pleas': 693,\n             'together': 694,\n             'Although': 695,\n             'official': 696,\n             'governmental': 697,\n             'career': 698,\n             'influence': 699,\n             'To': 700,\n             'start': 701,\n             '2017': 702,\n             'Menard': 703,\n             'survived': 704,\n             'wrecks': 705,\n             'Daytona': 706,\n             '500': 707,\n             'brought': 708,\n             'home': 709,\n             '5th': 710,\n             'finish': 711,\n             'few': 712,\n             'ran': 713,\n             'out': 714,\n             'Nixon': 715,\n             'failed': 716,\n             'drug': 717,\n             'test': 718,\n             'September': 719,\n             '1991': 720,\n             'suspended': 721,\n             '60': 722,\n             'days': 723,\n             'caused': 724,\n             'miss': 725,\n             'Series': 726,\n             'Stone': 727,\n             'City': 728,\n             'Art': 729,\n             'Colony': 730,\n             'meant': 731,\n             'alternative': 732,\n             'established': 733,\n             'artist': 734,\n             'colonies': 735,\n             'Woodstock': 736,\n             'Santa': 737,\n             'Fe': 738,\n             'allowing': 739,\n             'artists': 740,\n             'Midwest': 741,\n             'easily': 742,\n             'accessible': 743,\n             'site': 744,\n             'residency': 745,\n             'Once': 746,\n             'completed': 747,\n             'card': 748,\n             'then': 749,\n             'mailed': 750,\n             'modern': 751,\n             'times': 752,\n             'game': 753,\n             'master': 754,\n             'either': 755,\n             'processed': 756,\n             'held': 757,\n             'turn': 758,\n             'processing': 759,\n             'window': 760,\n             'begins': 761,\n             'Broadly': 762,\n             'speaking': 763,\n             'spatial': 764,\n             'redundancy': 765,\n             'reduced': 766,\n             'registering': 767,\n             'differences': 768,\n             'between': 769,\n             'parts': 770,\n             'frame': 771,\n             'task': 772,\n             'compression': 773,\n             'closely': 774,\n             'related': 775,\n             'image': 776,\n             'Arthur': 777,\n             'Charles': 778,\n             'Townley': 779,\n             'December': 780,\n             '30': 781,\n             '1880': 782,\n             'Browns': 783,\n             'Valley': 784,\n             'Minnesota': 785,\n             'son': 786,\n             'Fitch': 787,\n             'R.': 788,\n             'Esther': 789,\n             'J.': 790,\n             'Cross': 791,\n             'graduated': 792,\n             'Alexandria': 793,\n             'most': 794,\n             'evident': 795,\n             'youthful': 796,\n             'surge': 797,\n             'Hebrew': 798,\n             'Alliance': 799,\n             'resulted': 800,\n             'formation': 801,\n             'Young': 802,\n             'Somerset': 803,\n             'Hospital': 804,\n             'Pennsylvania': 805,\n             'January': 806,\n             '31': 807,\n             '1921': 808,\n             '225': 809,\n             'South': 810,\n             'Center': 811,\n             'Avenue': 812,\n             'contains': 813,\n             'extremely': 814,\n             'rare': 815,\n             'release': 816,\n             'Colored': 817,\n             'People': 818,\n             'Organic': 819,\n             'Mix': 820,\n             'Upon': 821,\n             'Hamer': 822,\n             'General': 823,\n             'Zachary': 824,\n             'exclaimed': 825,\n             'balance': 826,\n             'wheel': 827,\n             'my': 828,\n             'volunteer': 829,\n             'army': 830,\n             'Lt.': 831,\n             'Ulysses': 832,\n             'S.': 833,\n             'Grant': 834,\n             'lamented': 835,\n             'future': 836,\n             'There': 837,\n             'individuals': 838,\n             'about': 839,\n             '0.05': 840,\n             'Jewish': 841,\n             '104': 842,\n             '2.40': 843,\n             'Some': 844,\n             'pianists': 845,\n             'contend': 846,\n             'Debussy': 847,\n             'Serenade': 848,\n             'For': 849,\n             'Doll': 850,\n             'Certainly': 851,\n             'Tracy': 852,\n             'creator': 853,\n             'Chester': 854,\n             'Gould': 855,\n             'seemed': 856,\n             'trying': 857,\n             'reflect': 858,\n             'real': 859,\n             'world': 860,\n             'simple': 861,\n             'example': 862,\n             'industrial': 863,\n             'synthesis': 864,\n             'exchanging': 865,\n             'oxygen': 866,\n             'atom': 867,\n             'nitrogen': 868,\n             'Cod': 869,\n             'Beck': 870,\n             'Yorkshire': 871,\n             'river': 872,\n             'An': 873,\n             'effective': 874,\n             'two-way': 875,\n             'communication': 876,\n             'involves': 877,\n             'mutual': 878,\n             'verification': 879,\n             'understanding': 880,\n             'comparisons': 881,\n             'structure': 882,\n             'Isolated': 883,\n             'populations': 884,\n             'occur': 885,\n             'western': 886,\n             'Arizona': 887,\n             'southern': 888,\n             'Nevada': 889,\n             'context': 890,\n             'shifting': 891,\n             'national': 892,\n             'identity': 893,\n             'role': 894,\n             'public': 895,\n             'broadcasting': 896,\n             'unclear': 897,\n             'Alongside': 898,\n             'Jackie': 899,\n             'Stewart': 900,\n             'made': 901,\n             'four': 902,\n             'field': 903,\n             'Still': 904,\n             'questions': 905,\n             'relations': 906,\n             'Celtic': 907,\n             'cultures': 908,\n             'Britain': 909,\n             '—': 910,\n             'Cornish': 911,\n             'Welsh': 912,\n             'Breton': 913,\n             'settled': 914,\n             'given': 915,\n             'advertisers': 916,\n             'ability': 917,\n             'create': 918,\n             'dynamic': 919,\n             'advertising': 920,\n             'still': 921,\n             'compatible': 922,\n             'traditional': 923,\n             'spaces': 924,\n             '1954': 925,\n             'critics': 926,\n             'generally': 927,\n             'tepid': 928,\n             'During': 929,\n             'NBC': 930,\n             'coverage': 931,\n             '2002': 932,\n             'Lake': 933,\n             'Winter': 934,\n             'Olympics': 935,\n             'covered': 936,\n             'skeleton': 937,\n             'competitions': 938,\n             'manifesto': 939,\n             'seeks': 940,\n             'resolution': 941,\n             'African': 942,\n             'issues': 943,\n             'especially': 944,\n             'AIDS': 945,\n             'crisis': 946,\n             'addition': 947,\n             'addressing': 948,\n             'unemployment': 949,\n             'crime': 950,\n             'corruption': 951,\n             'prevent': 952,\n             'consolidation': 953,\n             'one-party': 954,\n             'prevention': 955,\n             'regards': 956,\n             'ruling': 957,\n             'ANC': 958,\n             'perceived': 959,\n             'many': 960,\n             'making': 961,\n             'efforts': 962,\n             'consolidate': 963,\n             'order': 964,\n             'avoid': 965,\n             'Leonid': 966,\n             'Brezhnev': 967,\n             'middle': 968,\n             'electoral': 969,\n             'campaign': 970,\n             '1980': 971,\n             'Presidential': 972,\n             'election': 973,\n             'Carter': 974,\n             'opted': 975,\n             'send': 976,\n             'mother': 977,\n             'Lilian': 978,\n             'Vice': 979,\n             'President': 980,\n             'Walter': 981,\n             'Mondale': 982,\n             'heads': 983,\n             'delegation': 984,\n             'By': 985,\n             'group': 986,\n             'layout': 987,\n             'initial': 988,\n             'shape': 989,\n             'integration': 990,\n             'insurance': 991,\n             'property': 992,\n             'casualty': 993,\n             'corporate': 994,\n             'annuity': 995,\n             'management': 996,\n             'investment': 997,\n             'education': 998,\n             'Finally': 999,\n             ...})"
     },
     "execution_count": 4,
     "metadata": {},
     "output_type": "execute_result"
    }
   ],
   "source": [
    "vocab"
   ],
   "metadata": {
    "collapsed": false
   }
  },
  {
   "cell_type": "code",
   "execution_count": 5,
   "outputs": [
    {
     "name": "stdout",
     "output_type": "stream",
     "text": [
      "50001\n"
     ]
    }
   ],
   "source": [
    "print(len(vocab)) #50 001 words"
   ],
   "metadata": {
    "collapsed": false
   }
  },
  {
   "cell_type": "code",
   "execution_count": 6,
   "outputs": [
    {
     "name": "stdout",
     "output_type": "stream",
     "text": [
      "RNNModel(\n",
      "  (drop): Dropout(p=0.5, inplace=False)\n",
      "  (encoder): Embedding(50001, 650)\n",
      "  (rnn): LSTM(650, 650, num_layers=2, batch_first=True, dropout=0.5)\n",
      "  (decoder): Linear(in_features=650, out_features=50001, bias=True)\n",
      ")\n"
     ]
    }
   ],
   "source": [
    "print(lstm)"
   ],
   "metadata": {
    "collapsed": false
   }
  },
  {
   "cell_type": "markdown",
   "metadata": {},
   "source": [
    "It is a good idea that before you move on, you try to feed some text to your LMs; and check if everything works accordingly. "
   ]
  },
  {
   "cell_type": "markdown",
   "metadata": {},
   "source": [
    "# Data\n",
    "\n",
    "For this assignment you will train your probes on __treebank__ corpora. A treebank is a corpus that has been *parsed*, and stored in a representation that allows the parse tree to be recovered. Next to a parse tree, treebanks also often contain information about part-of-speech tags, which is exactly what we are after now.\n",
    "\n",
    "The treebank you will use for now is part of the Universal Dependencies project. I provide a sample of this treebank as well, so you can test your setup on that before moving on to larger amounts of data.\n",
    "\n",
    "Make sure you accustom yourself to the format that is created by the `conllu` library that parses the treebank files before moving on. For example, make sure you understand how you can access the pos tag of a token, or how to cope with the tree structure that is formed using the `to_tree()` functionality."
   ]
  },
  {
   "cell_type": "code",
   "execution_count": 7,
   "metadata": {},
   "outputs": [],
   "source": [
    "# READ DATA\n",
    "from typing import List\n",
    "from conllu import parse_incr, TokenList\n",
    "\n",
    "\n",
    "# If stuff like `: str` and `-> ..` seems scary, fear not! \n",
    "# These are type hints that help you to understand what kind of argument and output is expected.\n",
    "def parse_corpus(filename: str) -> List[TokenList]:\n",
    "    data_file = open(filename, encoding=\"utf-8\") #to parse es analyzar texto para analizar estructura gramatical: sustnativo, verbo,adjetivo, etc\n",
    "\n",
    "    ud_parses = list(parse_incr(data_file))\n",
    "    \n",
    "    return ud_parses #list of tokenlist objects\n",
    "\n",
    "\n",
    "ud_parses = parse_corpus('data/sample/en_ewt-ud-train.conllu')"
   ]
  },
  {
   "cell_type": "code",
   "execution_count": 8,
   "outputs": [
    {
     "name": "stdout",
     "output_type": "stream",
     "text": [
      "VBD\n"
     ]
    }
   ],
   "source": [
    "# visualize tree\n",
    "print(ud_parses[5][2]['xpos'])\n"
   ],
   "metadata": {
    "collapsed": false
   }
  },
  {
   "cell_type": "markdown",
   "metadata": {},
   "source": [
    "# Generating Representations\n",
    "\n",
    "We now have our data all set, our models are running and we are good to go!\n",
    "\n",
    "The next step is now to create the model representations for the sentences in our corpora. Once we have generated these representations we can store them, and train additional diagnostic (/probing) classifiers on top of the representations.\n",
    "\n",
    "There are a few things you should keep in mind here. Read these carefully, as these tips will save you a lot of time in your implementation.\n",
    "1. Transformer models make use of Byte-Pair Encodings (BPE), that chunk up a piece of next in subword pieces. For example, a word such as \"largely\" could be chunked up into \"large\" and \"ly\". We are interested in probing linguistic information on the __word__-level. Therefore, we will follow the suggestion of Hewitt et al. (2019a, footnote 4), and create the representation of a word by averaging over the representations of its subwords. So the representation of \"largely\" becomes the average of that of \"large\" and \"ly\".\n",
    "\n",
    "\n",
    "2. Subword chunks never overlap multiple tokens. In other words, say we have a phrase like \"None of the\", then the tokenizer might chunk that into \"No\"+\"ne\"+\" of\"+\" the\", but __not__ into \"No\"+\"ne o\"+\"f the\", as those chunks overlap multiple tokens. This is great for our setup! Otherwise it would have been quite challenging to distribute the representation of a subword over the 2 tokens it belongs to.\n",
    "\n",
    "\n",
    "3. **Important**: If you closely examine the provided treebank, you will notice that some tokens are split up into multiple pieces, that each have their own POS-tag. For example, in the first sentence the word \"Al-Zaman\" is split into \"Al\", \"-\", and \"Zaman\". In such cases, the conllu `TokenList` format will add the following attribute: `('misc', OrderedDict([('SpaceAfter', 'No')]))` to these tokens. Your model's tokenizer does not need to adhere to the same tokenization. E.g., \"Al-Zaman\" could be split into \"Al-\"+\"Za\"+\"man\", making it hard to match the representations with their correct pos-tag. Therefore I recommend you to not tokenize your entire sentence at once, but to do this based on the chunking of the treebank. <br /><br />\n",
    "Make sure to still incoporate the spaces in a sentence though, as these are part of the BPE of the tokenizer. That is, the tokenizer uses a different token id for `\"man\"`, than it does for `\" man\"`: the former could be part of `\" woman\"`=`\" wo`\"+`\"man\"`, whereas the latter would be the used in case *man* occurs at the start of a word. The tokenizer for GPT-2 adds spaces at the start of a token (represented as a `Ġ` symbol). This means that you should keep track whether the previous token had the `SpaceAfter` attribute set to `'No'`: in case it did not, you should manually prepend a `\" \"` ahead of the token.\n",
    "\n",
    "\n",
    "4. The LSTM LM does not have the issues related to subwords, but is far more restricted in its vocabulary. Make sure you keep the above points in mind though, when creating the LSTM representations. You might want to write separate functions for the LSTM, but that is up to you.\n",
    "\n",
    "\n",
    "5. The huggingface transformer models don't return the hidden state by default. To achieve this you can pass `output_hidden_states=True` to a model forward pass. The hidden states are then returned for all intermediate layers as well, the latest entry in this list corresponds to the top layer.\n",
    "\n",
    "\n",
    "6. **N.B.**: Make sure that when you run a sentence through your model, you do so within a `with torch.no_grad():` block, and that you have run `model.eval()` beforehand as well (to disable dropout).\n",
    "\n",
    "\n",
    "7. **N.B.**: Make sure to use a token's ``[\"form\"]`` attribute, and not the ``[\"lemma\"]``, as the latter will stem any relevant morphological information from the token. We don't want this, because we want to feed well-formed, grammatical sentences to our model.\n",
    "\n",
    "\n",
    "I would like to stress that if you feel hindered in any way by the simple code structure that is presented here, you are free to modify it :-) Just make sure it is clear to an outsider what you're doing, some helpful comments never hurt."
   ]
  },
  {
   "cell_type": "code",
   "execution_count": 48,
   "metadata": {},
   "outputs": [],
   "source": [
    "from collections import OrderedDict\n",
    "# FETCH SENTENCE REPRESENTATIONS\n",
    "from torch import Tensor\n",
    "import pickle\n",
    "\n",
    "from tqdm import tqdm\n",
    "\n",
    "\n",
    "# Should return a tensor of shape (num_tokens_in_corpus, representation_size)\n",
    "# Make sure you correctly average the subword representations that belong to 1 token!\n",
    "\n",
    "def fetch_sen_reps(ud_parses: List[TokenList], model, tokenizer) -> Tensor:\n",
    "\n",
    "    model.eval()\n",
    "    corpus_representations = list()\n",
    "\n",
    "    for sentence_ in tqdm(ud_parses):\n",
    "        space_after = False\n",
    "        tokens = list()\n",
    "        for word in sentence_:\n",
    "            if space_after:\n",
    "                word['form'] = ' ' + word['form']\n",
    "                # Al-Zaman ->  Al-Zaman\n",
    "                # being\n",
    "                # tokenizer(being) -> be ing -> 123 345\n",
    "                # model(I am being good) -> 5 6 123 345 7\n",
    "                # 1 2 3 4 5 -> 1 2 3.5 5\n",
    "            if word['misc'] == OrderedDict([('SpaceAfter', 'No')]):\n",
    "                space_after = False\n",
    "            else:\n",
    "                space_after = True\n",
    "\n",
    "            word_tokens = tokenizer(['form'])['input_ids']\n",
    "            tokens.extend(word_tokens)\n",
    "            word['num_tokens'] = len(word_tokens)\n",
    "\n",
    "        with torch.no_grad():\n",
    "            hidden_states = list()\n",
    "            output = model(torch.tensor(tokens), output_hidden_states=True)\n",
    "            last_hidden_state = output.hidden_states[-1]\n",
    "            hidden_states.append(last_hidden_state)\n",
    "            #print(hidden_states)\n",
    "            #print(torch.tensor(hidden_states).shape)\n",
    "            #representation = torch.mean(torch.tensor(hidden_states), dim=0)\n",
    "            representations = torch.zeros((len(sentence_), 768))\n",
    "\n",
    "            token_idx = 0\n",
    "            for word_idx, word in enumerate(sentence_):\n",
    "                # figure out which idx in the hidden states are for our word\n",
    "                idx = torch.arange(token_idx, token_idx + word['num_tokens'])\n",
    "                word_hidden_states = torch.mean(last_hidden_state[idx], axis=0)\n",
    "                representations[word_idx] = word_hidden_states\n",
    "                token_idx += word['num_tokens']\n",
    "            corpus_representations.append(representations)\n",
    "\n",
    "    return torch.cat(corpus_representations, dim=0)\n",
    "                #\n",
    "\n",
    "            # 1. preprocess the tokens\n",
    "            # 2. tokenize the sentence\n",
    "            # 3. run the sentence through the model and get the hidden states\n",
    "            # 4. average the subword representations that belong to 1 token\n",
    "            # 5. store the averaged representations in a list\n",
    "            # 6. return the list as a tensor\n",
    "\n",
    "\n",
    "\n",
    "\n"
   ]
  },
  {
   "cell_type": "code",
   "execution_count": 43,
   "outputs": [],
   "source": [
    "import torch\n",
    "import torch.nn as nn\n",
    "import numpy as np\n",
    "\n",
    "def fetch_sen_reps(ud_parses: List[TokenList], lstm, vocab):\n",
    "    # Create a list of word tokens using the given vocabulary\n",
    "    word_tokens = []\n",
    "    for sentence_ in tqdm(ud_parses):\n",
    "            for word in sentence_:\n",
    "                if word['form'] in vocab.keys():\n",
    "                    word_tokens.append(vocab[word['form']])\n",
    "                else:\n",
    "                    word_tokens.append(vocab['<unk>'])\n",
    "\n",
    "    # Create an embedding matrix using an nn.Embedding layer\n",
    "    embeddings = nn.Embedding(len(vocab), 650)\n",
    "    embeddings.weight.data.copy_(torch.from_numpy(np.random.uniform(-0.1, 0.1, size=(len(vocab), 650))))\n",
    "\n",
    "\n",
    "    # Pass the embedding matrix through the LSTM to generate sentence representations\n",
    "    with torch.no_grad():\n",
    "        embeddings = embeddings(torch.tensor(word_tokens))\n",
    "        embeddings = embeddings.view(len(word_tokens), 1, -1)\n",
    "        lstm_hidden = 650\n",
    "        lstm_outputs, _ = lstm(embeddings,lstm_hidden)\n",
    "        lstm_outputs = lstm_outputs()\n",
    "\n",
    "    # Separate the sentence representations by sentence\n",
    "    sen_reps = []\n",
    "    idx = 0\n",
    "    for parse in ud_parses:\n",
    "        parse_sen_reps = []\n",
    "        for sentence in parse:\n",
    "            num_tokens = len(sentence)\n",
    "            parse_sen_reps.append(lstm_outputs[idx:idx+num_tokens].mean(dim=0))\n",
    "            idx += num_tokens\n",
    "        sen_reps.append(parse_sen_reps)\n",
    "\n",
    "    return sen_reps\n"
   ],
   "metadata": {
    "collapsed": false
   }
  },
  {
   "cell_type": "markdown",
   "metadata": {},
   "source": [
    "To validate your activation extraction procedure I have set up the following assertion function as a sanity check. It compares your representation of the first sentence in the corpus against a pickled version of mine.\n",
    "\n",
    "For this I used `distilgpt2`."
   ]
  },
  {
   "cell_type": "code",
   "execution_count": 45,
   "metadata": {},
   "outputs": [
    {
     "name": "stderr",
     "output_type": "stream",
     "text": [
      "100%|██████████| 1/1 [00:00<?, ?it/s]\n"
     ]
    },
    {
     "ename": "RuntimeError",
     "evalue": "Expected tensor for argument #1 'indices' to have one of the following scalar types: Long, Int; but got torch.FloatTensor instead (while checking arguments for embedding)",
     "output_type": "error",
     "traceback": [
      "\u001B[1;31m---------------------------------------------------------------------------\u001B[0m",
      "\u001B[1;31mRuntimeError\u001B[0m                              Traceback (most recent call last)",
      "Cell \u001B[1;32mIn[45], line 45\u001B[0m\n\u001B[0;32m     41\u001B[0m     \u001B[38;5;28;01mif\u001B[39;00m \u001B[38;5;129;01mnot\u001B[39;00m torch\u001B[38;5;241m.\u001B[39mallclose(lstm_emb1, own_lstm_emb1, rtol\u001B[38;5;241m=\u001B[39m\u001B[38;5;241m1e-3\u001B[39m, atol\u001B[38;5;241m=\u001B[39m\u001B[38;5;241m1e-3\u001B[39m):\n\u001B[0;32m     42\u001B[0m         error_msg(\u001B[38;5;124m\"\u001B[39m\u001B[38;5;124mlstm\u001B[39m\u001B[38;5;124m\"\u001B[39m, lstm_emb1, own_lstm_emb1, \u001B[38;5;28mlist\u001B[39m(vocab\u001B[38;5;241m.\u001B[39mkeys()))\n\u001B[1;32m---> 45\u001B[0m \u001B[43massert_sen_reps\u001B[49m\u001B[43m(\u001B[49m\u001B[43mmodel\u001B[49m\u001B[43m,\u001B[49m\u001B[43m \u001B[49m\u001B[43mtokenizer\u001B[49m\u001B[43m,\u001B[49m\u001B[43m \u001B[49m\u001B[43mlstm\u001B[49m\u001B[43m,\u001B[49m\u001B[43m \u001B[49m\u001B[43mvocab\u001B[49m\u001B[43m)\u001B[49m\n",
      "Cell \u001B[1;32mIn[45], line 38\u001B[0m, in \u001B[0;36massert_sen_reps\u001B[1;34m(model, tokenizer, lstm, vocab)\u001B[0m\n\u001B[0;32m     28\u001B[0m corpus \u001B[38;5;241m=\u001B[39m parse_corpus(\u001B[38;5;124m'\u001B[39m\u001B[38;5;124mdata/sample/en_ewt-ud-train.conllu\u001B[39m\u001B[38;5;124m'\u001B[39m)[:\u001B[38;5;241m1\u001B[39m]\n\u001B[0;32m     30\u001B[0m \u001B[38;5;66;03m# # #test gpt2\u001B[39;00m\n\u001B[0;32m     31\u001B[0m \u001B[38;5;66;03m# own_distilgpt2_emb1 = fetch_sen_reps(corpus, model, tokenizer)\u001B[39;00m\n\u001B[0;32m     32\u001B[0m \u001B[38;5;66;03m# assert distilgpt2_emb1.shape == own_distilgpt2_emb1.shape, \\\u001B[39;00m\n\u001B[1;32m   (...)\u001B[0m\n\u001B[0;32m     36\u001B[0m \n\u001B[0;32m     37\u001B[0m \u001B[38;5;66;03m#test lstm\u001B[39;00m\n\u001B[1;32m---> 38\u001B[0m own_lstm_emb1 \u001B[38;5;241m=\u001B[39m \u001B[43mfetch_sen_reps\u001B[49m\u001B[43m(\u001B[49m\u001B[43mcorpus\u001B[49m\u001B[43m,\u001B[49m\u001B[43m \u001B[49m\u001B[43mlstm\u001B[49m\u001B[43m,\u001B[49m\u001B[43m \u001B[49m\u001B[43mvocab\u001B[49m\u001B[43m)\u001B[49m\n\u001B[0;32m     39\u001B[0m \u001B[38;5;28;01massert\u001B[39;00m lstm_emb1\u001B[38;5;241m.\u001B[39mshape \u001B[38;5;241m==\u001B[39m own_lstm_emb1\u001B[38;5;241m.\u001B[39mshape, \\\n\u001B[0;32m     40\u001B[0m     \u001B[38;5;124mf\u001B[39m\u001B[38;5;124m\"\u001B[39m\u001B[38;5;124mLSTM shape mismatch: \u001B[39m\u001B[38;5;132;01m{\u001B[39;00mlstm_emb1\u001B[38;5;241m.\u001B[39mshape\u001B[38;5;132;01m}\u001B[39;00m\u001B[38;5;124m (gold) vs. \u001B[39m\u001B[38;5;132;01m{\u001B[39;00mown_lstm_emb1\u001B[38;5;241m.\u001B[39mshape\u001B[38;5;132;01m}\u001B[39;00m\u001B[38;5;124m (yours)\u001B[39m\u001B[38;5;124m\"\u001B[39m\n\u001B[0;32m     41\u001B[0m \u001B[38;5;28;01mif\u001B[39;00m \u001B[38;5;129;01mnot\u001B[39;00m torch\u001B[38;5;241m.\u001B[39mallclose(lstm_emb1, own_lstm_emb1, rtol\u001B[38;5;241m=\u001B[39m\u001B[38;5;241m1e-3\u001B[39m, atol\u001B[38;5;241m=\u001B[39m\u001B[38;5;241m1e-3\u001B[39m):\n",
      "Cell \u001B[1;32mIn[43], line 25\u001B[0m, in \u001B[0;36mfetch_sen_reps\u001B[1;34m(ud_parses, lstm, vocab)\u001B[0m\n\u001B[0;32m     23\u001B[0m     embeddings \u001B[38;5;241m=\u001B[39m embeddings\u001B[38;5;241m.\u001B[39mview(\u001B[38;5;28mlen\u001B[39m(word_tokens), \u001B[38;5;241m1\u001B[39m, \u001B[38;5;241m-\u001B[39m\u001B[38;5;241m1\u001B[39m)\n\u001B[0;32m     24\u001B[0m     lstm_hidden \u001B[38;5;241m=\u001B[39m \u001B[38;5;241m650\u001B[39m\n\u001B[1;32m---> 25\u001B[0m     lstm_outputs, _ \u001B[38;5;241m=\u001B[39m \u001B[43mlstm\u001B[49m\u001B[43m(\u001B[49m\u001B[43membeddings\u001B[49m\u001B[43m,\u001B[49m\u001B[43mlstm_hidden\u001B[49m\u001B[43m)\u001B[49m\n\u001B[0;32m     26\u001B[0m     lstm_outputs \u001B[38;5;241m=\u001B[39m lstm_outputs()\n\u001B[0;32m     28\u001B[0m \u001B[38;5;66;03m# Separate the sentence representations by sentence\u001B[39;00m\n",
      "File \u001B[1;32m~\\Documentos\\ams\\data_science\\y1\\nlp2\\dataspell1\\nlp2-probing-lms\\venv\\lib\\site-packages\\torch\\nn\\modules\\module.py:1501\u001B[0m, in \u001B[0;36mModule._call_impl\u001B[1;34m(self, *args, **kwargs)\u001B[0m\n\u001B[0;32m   1496\u001B[0m \u001B[38;5;66;03m# If we don't have any hooks, we want to skip the rest of the logic in\u001B[39;00m\n\u001B[0;32m   1497\u001B[0m \u001B[38;5;66;03m# this function, and just call forward.\u001B[39;00m\n\u001B[0;32m   1498\u001B[0m \u001B[38;5;28;01mif\u001B[39;00m \u001B[38;5;129;01mnot\u001B[39;00m (\u001B[38;5;28mself\u001B[39m\u001B[38;5;241m.\u001B[39m_backward_hooks \u001B[38;5;129;01mor\u001B[39;00m \u001B[38;5;28mself\u001B[39m\u001B[38;5;241m.\u001B[39m_backward_pre_hooks \u001B[38;5;129;01mor\u001B[39;00m \u001B[38;5;28mself\u001B[39m\u001B[38;5;241m.\u001B[39m_forward_hooks \u001B[38;5;129;01mor\u001B[39;00m \u001B[38;5;28mself\u001B[39m\u001B[38;5;241m.\u001B[39m_forward_pre_hooks\n\u001B[0;32m   1499\u001B[0m         \u001B[38;5;129;01mor\u001B[39;00m _global_backward_pre_hooks \u001B[38;5;129;01mor\u001B[39;00m _global_backward_hooks\n\u001B[0;32m   1500\u001B[0m         \u001B[38;5;129;01mor\u001B[39;00m _global_forward_hooks \u001B[38;5;129;01mor\u001B[39;00m _global_forward_pre_hooks):\n\u001B[1;32m-> 1501\u001B[0m     \u001B[38;5;28;01mreturn\u001B[39;00m forward_call(\u001B[38;5;241m*\u001B[39margs, \u001B[38;5;241m*\u001B[39m\u001B[38;5;241m*\u001B[39mkwargs)\n\u001B[0;32m   1502\u001B[0m \u001B[38;5;66;03m# Do not call functions when jit is used\u001B[39;00m\n\u001B[0;32m   1503\u001B[0m full_backward_hooks, non_full_backward_hooks \u001B[38;5;241m=\u001B[39m [], []\n",
      "File \u001B[1;32m~\\Documentos\\ams\\data_science\\y1\\nlp2\\dataspell1\\nlp2-probing-lms\\lstm\\model.py:57\u001B[0m, in \u001B[0;36mRNNModel.forward\u001B[1;34m(self, input, hidden, output_vocab_probs)\u001B[0m\n\u001B[0;32m     56\u001B[0m \u001B[38;5;28;01mdef\u001B[39;00m \u001B[38;5;21mforward\u001B[39m(\u001B[38;5;28mself\u001B[39m, \u001B[38;5;28minput\u001B[39m, hidden, output_vocab_probs\u001B[38;5;241m=\u001B[39m\u001B[38;5;28;01mFalse\u001B[39;00m):\n\u001B[1;32m---> 57\u001B[0m     emb \u001B[38;5;241m=\u001B[39m \u001B[38;5;28;43mself\u001B[39;49m\u001B[38;5;241;43m.\u001B[39;49m\u001B[43mencoder\u001B[49m\u001B[43m(\u001B[49m\u001B[38;5;28;43minput\u001B[39;49m\u001B[43m)\u001B[49m\n\u001B[0;32m     58\u001B[0m     output, hidden \u001B[38;5;241m=\u001B[39m \u001B[38;5;28mself\u001B[39m\u001B[38;5;241m.\u001B[39mrnn(emb, hidden)\n\u001B[0;32m     60\u001B[0m     \u001B[38;5;28;01mif\u001B[39;00m output_vocab_probs:\n",
      "File \u001B[1;32m~\\Documentos\\ams\\data_science\\y1\\nlp2\\dataspell1\\nlp2-probing-lms\\venv\\lib\\site-packages\\torch\\nn\\modules\\module.py:1501\u001B[0m, in \u001B[0;36mModule._call_impl\u001B[1;34m(self, *args, **kwargs)\u001B[0m\n\u001B[0;32m   1496\u001B[0m \u001B[38;5;66;03m# If we don't have any hooks, we want to skip the rest of the logic in\u001B[39;00m\n\u001B[0;32m   1497\u001B[0m \u001B[38;5;66;03m# this function, and just call forward.\u001B[39;00m\n\u001B[0;32m   1498\u001B[0m \u001B[38;5;28;01mif\u001B[39;00m \u001B[38;5;129;01mnot\u001B[39;00m (\u001B[38;5;28mself\u001B[39m\u001B[38;5;241m.\u001B[39m_backward_hooks \u001B[38;5;129;01mor\u001B[39;00m \u001B[38;5;28mself\u001B[39m\u001B[38;5;241m.\u001B[39m_backward_pre_hooks \u001B[38;5;129;01mor\u001B[39;00m \u001B[38;5;28mself\u001B[39m\u001B[38;5;241m.\u001B[39m_forward_hooks \u001B[38;5;129;01mor\u001B[39;00m \u001B[38;5;28mself\u001B[39m\u001B[38;5;241m.\u001B[39m_forward_pre_hooks\n\u001B[0;32m   1499\u001B[0m         \u001B[38;5;129;01mor\u001B[39;00m _global_backward_pre_hooks \u001B[38;5;129;01mor\u001B[39;00m _global_backward_hooks\n\u001B[0;32m   1500\u001B[0m         \u001B[38;5;129;01mor\u001B[39;00m _global_forward_hooks \u001B[38;5;129;01mor\u001B[39;00m _global_forward_pre_hooks):\n\u001B[1;32m-> 1501\u001B[0m     \u001B[38;5;28;01mreturn\u001B[39;00m forward_call(\u001B[38;5;241m*\u001B[39margs, \u001B[38;5;241m*\u001B[39m\u001B[38;5;241m*\u001B[39mkwargs)\n\u001B[0;32m   1502\u001B[0m \u001B[38;5;66;03m# Do not call functions when jit is used\u001B[39;00m\n\u001B[0;32m   1503\u001B[0m full_backward_hooks, non_full_backward_hooks \u001B[38;5;241m=\u001B[39m [], []\n",
      "File \u001B[1;32m~\\Documentos\\ams\\data_science\\y1\\nlp2\\dataspell1\\nlp2-probing-lms\\venv\\lib\\site-packages\\torch\\nn\\modules\\sparse.py:162\u001B[0m, in \u001B[0;36mEmbedding.forward\u001B[1;34m(self, input)\u001B[0m\n\u001B[0;32m    161\u001B[0m \u001B[38;5;28;01mdef\u001B[39;00m \u001B[38;5;21mforward\u001B[39m(\u001B[38;5;28mself\u001B[39m, \u001B[38;5;28minput\u001B[39m: Tensor) \u001B[38;5;241m-\u001B[39m\u001B[38;5;241m>\u001B[39m Tensor:\n\u001B[1;32m--> 162\u001B[0m     \u001B[38;5;28;01mreturn\u001B[39;00m \u001B[43mF\u001B[49m\u001B[38;5;241;43m.\u001B[39;49m\u001B[43membedding\u001B[49m\u001B[43m(\u001B[49m\n\u001B[0;32m    163\u001B[0m \u001B[43m        \u001B[49m\u001B[38;5;28;43minput\u001B[39;49m\u001B[43m,\u001B[49m\u001B[43m \u001B[49m\u001B[38;5;28;43mself\u001B[39;49m\u001B[38;5;241;43m.\u001B[39;49m\u001B[43mweight\u001B[49m\u001B[43m,\u001B[49m\u001B[43m \u001B[49m\u001B[38;5;28;43mself\u001B[39;49m\u001B[38;5;241;43m.\u001B[39;49m\u001B[43mpadding_idx\u001B[49m\u001B[43m,\u001B[49m\u001B[43m \u001B[49m\u001B[38;5;28;43mself\u001B[39;49m\u001B[38;5;241;43m.\u001B[39;49m\u001B[43mmax_norm\u001B[49m\u001B[43m,\u001B[49m\n\u001B[0;32m    164\u001B[0m \u001B[43m        \u001B[49m\u001B[38;5;28;43mself\u001B[39;49m\u001B[38;5;241;43m.\u001B[39;49m\u001B[43mnorm_type\u001B[49m\u001B[43m,\u001B[49m\u001B[43m \u001B[49m\u001B[38;5;28;43mself\u001B[39;49m\u001B[38;5;241;43m.\u001B[39;49m\u001B[43mscale_grad_by_freq\u001B[49m\u001B[43m,\u001B[49m\u001B[43m \u001B[49m\u001B[38;5;28;43mself\u001B[39;49m\u001B[38;5;241;43m.\u001B[39;49m\u001B[43msparse\u001B[49m\u001B[43m)\u001B[49m\n",
      "File \u001B[1;32m~\\Documentos\\ams\\data_science\\y1\\nlp2\\dataspell1\\nlp2-probing-lms\\venv\\lib\\site-packages\\torch\\nn\\functional.py:2210\u001B[0m, in \u001B[0;36membedding\u001B[1;34m(input, weight, padding_idx, max_norm, norm_type, scale_grad_by_freq, sparse)\u001B[0m\n\u001B[0;32m   2204\u001B[0m     \u001B[38;5;66;03m# Note [embedding_renorm set_grad_enabled]\u001B[39;00m\n\u001B[0;32m   2205\u001B[0m     \u001B[38;5;66;03m# XXX: equivalent to\u001B[39;00m\n\u001B[0;32m   2206\u001B[0m     \u001B[38;5;66;03m# with torch.no_grad():\u001B[39;00m\n\u001B[0;32m   2207\u001B[0m     \u001B[38;5;66;03m#   torch.embedding_renorm_\u001B[39;00m\n\u001B[0;32m   2208\u001B[0m     \u001B[38;5;66;03m# remove once script supports set_grad_enabled\u001B[39;00m\n\u001B[0;32m   2209\u001B[0m     _no_grad_embedding_renorm_(weight, \u001B[38;5;28minput\u001B[39m, max_norm, norm_type)\n\u001B[1;32m-> 2210\u001B[0m \u001B[38;5;28;01mreturn\u001B[39;00m \u001B[43mtorch\u001B[49m\u001B[38;5;241;43m.\u001B[39;49m\u001B[43membedding\u001B[49m\u001B[43m(\u001B[49m\u001B[43mweight\u001B[49m\u001B[43m,\u001B[49m\u001B[43m \u001B[49m\u001B[38;5;28;43minput\u001B[39;49m\u001B[43m,\u001B[49m\u001B[43m \u001B[49m\u001B[43mpadding_idx\u001B[49m\u001B[43m,\u001B[49m\u001B[43m \u001B[49m\u001B[43mscale_grad_by_freq\u001B[49m\u001B[43m,\u001B[49m\u001B[43m \u001B[49m\u001B[43msparse\u001B[49m\u001B[43m)\u001B[49m\n",
      "\u001B[1;31mRuntimeError\u001B[0m: Expected tensor for argument #1 'indices' to have one of the following scalar types: Long, Int; but got torch.FloatTensor instead (while checking arguments for embedding)"
     ]
    }
   ],
   "source": [
    "def error_msg(model_name, gold_embs, embs, i2w):\n",
    "    with open(f'{model_name}_tokens1.pickle', 'rb') as f:\n",
    "        sen_tokens = pickle.load(f)\n",
    "        \n",
    "    diff = torch.abs(embs - gold_embs)\n",
    "    max_diff = torch.max(diff)\n",
    "    avg_diff = torch.mean(diff)\n",
    "    \n",
    "    print(f\"{model_name} embeddings don't match!\")\n",
    "    print(f\"Max diff.: {max_diff:.4f}\\nMean diff. {avg_diff:.4f}\")\n",
    "\n",
    "    print(\"\\nCheck if your tokenization matches with the original tokenization:\")\n",
    "    for idx in sen_tokens.squeeze():\n",
    "        if isinstance(i2w, list):\n",
    "            token = i2w[idx]\n",
    "        else:\n",
    "            token = i2w.convert_ids_to_tokens(idx.item())\n",
    "        print(f\"{idx:<6} {token}\")\n",
    "\n",
    "\n",
    "def assert_sen_reps(model, tokenizer, lstm, vocab):\n",
    "    with open('distilgpt2_emb1.pickle', 'rb') as f:\n",
    "        distilgpt2_emb1 = pickle.load(f)\n",
    "        \n",
    "    with open('lstm_emb1.pickle', 'rb') as f:\n",
    "        lstm_emb1 = pickle.load(f)\n",
    "    \n",
    "    corpus = parse_corpus('data/sample/en_ewt-ud-train.conllu')[:1]\n",
    "\n",
    "    # # #test gpt2\n",
    "    # own_distilgpt2_emb1 = fetch_sen_reps(corpus, model, tokenizer)\n",
    "    # assert distilgpt2_emb1.shape == own_distilgpt2_emb1.shape, \\\n",
    "    #     f\"Distilgpt2 shape mismatch: {distilgpt2_emb1.shape} (gold) vs. {own_distilgpt2_emb1.shape} (yours)\"\n",
    "    # if not torch.allclose(distilgpt2_emb1, own_distilgpt2_emb1, rtol=1e-3, atol=1e-3):\n",
    "    #     error_msg(\"distilgpt2\", distilgpt2_emb1, own_distilgpt2_emb1, tokenizer)\n",
    "\n",
    "    #test lstm\n",
    "    own_lstm_emb1 = fetch_sen_reps(corpus, lstm, vocab)\n",
    "    assert lstm_emb1.shape == own_lstm_emb1.shape, \\\n",
    "        f\"LSTM shape mismatch: {lstm_emb1.shape} (gold) vs. {own_lstm_emb1.shape} (yours)\"\n",
    "    if not torch.allclose(lstm_emb1, own_lstm_emb1, rtol=1e-3, atol=1e-3):\n",
    "        error_msg(\"lstm\", lstm_emb1, own_lstm_emb1, list(vocab.keys()))\n",
    "\n",
    "\n",
    "assert_sen_reps(model, tokenizer, lstm, vocab)"
   ]
  },
  {
   "cell_type": "markdown",
   "metadata": {},
   "source": [
    "Next, we should define a function that extracts the corresponding POS labels for each activation, which we do based on the **``\"upostag\"``** attribute of a token (so not the ``xpostag`` attribute). These labels will be transformed to a tensor containing the label index for each item."
   ]
  },
  {
   "cell_type": "code",
   "execution_count": 57,
   "metadata": {},
   "outputs": [],
   "source": [
    "from typing import Optional, Tuple\n",
    "from typing import Dict\n",
    "\n",
    "\n",
    "# FETCH POS LABELS\n",
    "\n",
    "\n",
    "# Should return a tensor of shape (num_tokens_in_corpus,)\n",
    "# Make sure that when fetching these pos tags for your train/dev/test corpora you share the label vocabulary.\n",
    "def fetch_pos_tags(ud_parses: List[TokenList], pos_vocab: Optional[Dict[str, int]] = None) -> Tuple[Tensor, Dict[str, int]]:\n",
    "    pos_tags = list()\n",
    "    if not pos_vocab:\n",
    "        # create a new pos_vocab\n",
    "        print('Creating new pos_vocab')\n",
    "        pos_vocab = dict()\n",
    "        for sentence in tqdm(ud_parses):\n",
    "            for token in sentence:\n",
    "                if token['upos'] not in pos_vocab:\n",
    "                    pos_vocab[token['upos']] = len(pos_vocab)\n",
    "\n",
    "    for sentence in tqdm(ud_parses):\n",
    "        for token in sentence:\n",
    "            pos_tags.append(pos_vocab[token['upos']])\n",
    "\n",
    "    return torch.tensor(pos_tags), pos_vocab\n"
   ]
  },
  {
   "cell_type": "markdown",
   "metadata": {},
   "source": [
    "Finally, we can combine all these methods to retrieve the representations (`fetch_sen_reps`) and the corresponding labels (`fetch_pos_tags`). If you are still debugging and testing your setup you can set the `use_sample` variable to `True`, and once everything works you can extract the full corpus by setting it to `False`.\n",
    "\n",
    "The reason we pass the `train_vocab` to the data creation of the `dev` and `test` data is that we want to use the same label vocabulary across the different train/dev/test splits."
   ]
  },
  {
   "cell_type": "code",
   "execution_count": 58,
   "metadata": {},
   "outputs": [
    {
     "name": "stderr",
     "output_type": "stream",
     "text": [
      "100%|██████████| 90/90 [00:05<00:00, 17.61it/s]\n"
     ]
    },
    {
     "name": "stdout",
     "output_type": "stream",
     "text": [
      "Creating new pos_vocab\n"
     ]
    },
    {
     "name": "stderr",
     "output_type": "stream",
     "text": [
      "100%|██████████| 90/90 [00:00<?, ?it/s]\n",
      "100%|██████████| 90/90 [00:00<?, ?it/s]\n",
      "100%|██████████| 50/50 [00:03<00:00, 16.29it/s]\n",
      " 18%|█▊        | 9/50 [00:00<?, ?it/s]\n"
     ]
    },
    {
     "ename": "KeyError",
     "evalue": "'X'",
     "output_type": "error",
     "traceback": [
      "\u001B[1;31m---------------------------------------------------------------------------\u001B[0m",
      "\u001B[1;31mKeyError\u001B[0m                                  Traceback (most recent call last)",
      "Cell \u001B[1;32mIn[58], line 26\u001B[0m\n\u001B[0;32m     17\u001B[0m use_sample \u001B[38;5;241m=\u001B[39m \u001B[38;5;28;01mTrue\u001B[39;00m\n\u001B[0;32m     19\u001B[0m train_x, train_y, train_vocab \u001B[38;5;241m=\u001B[39m create_data(\n\u001B[0;32m     20\u001B[0m     ud_parses,\n\u001B[0;32m     21\u001B[0m     os\u001B[38;5;241m.\u001B[39mpath\u001B[38;5;241m.\u001B[39mjoin(\u001B[38;5;124m'\u001B[39m\u001B[38;5;124mdata\u001B[39m\u001B[38;5;124m'\u001B[39m, \u001B[38;5;124m'\u001B[39m\u001B[38;5;124msample\u001B[39m\u001B[38;5;124m'\u001B[39m \u001B[38;5;28;01mif\u001B[39;00m use_sample \u001B[38;5;28;01melse\u001B[39;00m \u001B[38;5;124m'\u001B[39m\u001B[38;5;124m'\u001B[39m, \u001B[38;5;124m'\u001B[39m\u001B[38;5;124men_ewt-ud-train.conllu\u001B[39m\u001B[38;5;124m'\u001B[39m),\n\u001B[0;32m     22\u001B[0m     lm, \n\u001B[0;32m     23\u001B[0m     w2i\n\u001B[0;32m     24\u001B[0m )\n\u001B[1;32m---> 26\u001B[0m dev_x, dev_y, _ \u001B[38;5;241m=\u001B[39m \u001B[43mcreate_data\u001B[49m\u001B[43m(\u001B[49m\n\u001B[0;32m     27\u001B[0m \u001B[43m    \u001B[49m\u001B[43mud_parses\u001B[49m\u001B[43m,\u001B[49m\n\u001B[0;32m     28\u001B[0m \u001B[43m    \u001B[49m\u001B[43mos\u001B[49m\u001B[38;5;241;43m.\u001B[39;49m\u001B[43mpath\u001B[49m\u001B[38;5;241;43m.\u001B[39;49m\u001B[43mjoin\u001B[49m\u001B[43m(\u001B[49m\u001B[38;5;124;43m'\u001B[39;49m\u001B[38;5;124;43mdata\u001B[39;49m\u001B[38;5;124;43m'\u001B[39;49m\u001B[43m,\u001B[49m\u001B[43m \u001B[49m\u001B[38;5;124;43m'\u001B[39;49m\u001B[38;5;124;43msample\u001B[39;49m\u001B[38;5;124;43m'\u001B[39;49m\u001B[43m \u001B[49m\u001B[38;5;28;43;01mif\u001B[39;49;00m\u001B[43m \u001B[49m\u001B[43muse_sample\u001B[49m\u001B[43m \u001B[49m\u001B[38;5;28;43;01melse\u001B[39;49;00m\u001B[43m \u001B[49m\u001B[38;5;124;43m'\u001B[39;49m\u001B[38;5;124;43m'\u001B[39;49m\u001B[43m,\u001B[49m\u001B[43m \u001B[49m\u001B[38;5;124;43m'\u001B[39;49m\u001B[38;5;124;43men_ewt-ud-dev.conllu\u001B[39;49m\u001B[38;5;124;43m'\u001B[39;49m\u001B[43m)\u001B[49m\u001B[43m,\u001B[49m\n\u001B[0;32m     29\u001B[0m \u001B[43m    \u001B[49m\u001B[43mlm\u001B[49m\u001B[43m,\u001B[49m\u001B[43m \u001B[49m\n\u001B[0;32m     30\u001B[0m \u001B[43m    \u001B[49m\u001B[43mw2i\u001B[49m\u001B[43m,\u001B[49m\n\u001B[0;32m     31\u001B[0m \u001B[43m    \u001B[49m\u001B[43mpos_vocab\u001B[49m\u001B[38;5;241;43m=\u001B[39;49m\u001B[43mtrain_vocab\u001B[49m\n\u001B[0;32m     32\u001B[0m \u001B[43m)\u001B[49m\n\u001B[0;32m     34\u001B[0m test_x, test_y, _ \u001B[38;5;241m=\u001B[39m create_data(\n\u001B[0;32m     35\u001B[0m     ud_parses,\n\u001B[0;32m     36\u001B[0m     os\u001B[38;5;241m.\u001B[39mpath\u001B[38;5;241m.\u001B[39mjoin(\u001B[38;5;124m'\u001B[39m\u001B[38;5;124mdata\u001B[39m\u001B[38;5;124m'\u001B[39m, \u001B[38;5;124m'\u001B[39m\u001B[38;5;124msample\u001B[39m\u001B[38;5;124m'\u001B[39m \u001B[38;5;28;01mif\u001B[39;00m use_sample \u001B[38;5;28;01melse\u001B[39;00m \u001B[38;5;124m'\u001B[39m\u001B[38;5;124m'\u001B[39m, \u001B[38;5;124m'\u001B[39m\u001B[38;5;124men_ewt-ud-test.conllu\u001B[39m\u001B[38;5;124m'\u001B[39m),\n\u001B[1;32m   (...)\u001B[0m\n\u001B[0;32m     39\u001B[0m     pos_vocab\u001B[38;5;241m=\u001B[39mtrain_vocab\n\u001B[0;32m     40\u001B[0m )\n",
      "Cell \u001B[1;32mIn[58], line 10\u001B[0m, in \u001B[0;36mcreate_data\u001B[1;34m(ud_parses, filename, lm, w2i, pos_vocab)\u001B[0m\n\u001B[0;32m      7\u001B[0m ud_parses \u001B[38;5;241m=\u001B[39m parse_corpus(filename)\n\u001B[0;32m      9\u001B[0m sen_reps \u001B[38;5;241m=\u001B[39m fetch_sen_reps(ud_parses, lm, w2i)\n\u001B[1;32m---> 10\u001B[0m pos_tags, pos_vocab \u001B[38;5;241m=\u001B[39m \u001B[43mfetch_pos_tags\u001B[49m\u001B[43m(\u001B[49m\u001B[43mud_parses\u001B[49m\u001B[43m,\u001B[49m\u001B[43m \u001B[49m\u001B[43mpos_vocab\u001B[49m\u001B[38;5;241;43m=\u001B[39;49m\u001B[43mpos_vocab\u001B[49m\u001B[43m)\u001B[49m\n\u001B[0;32m     12\u001B[0m \u001B[38;5;28;01mreturn\u001B[39;00m sen_reps, pos_tags, pos_vocab\n",
      "Cell \u001B[1;32mIn[57], line 23\u001B[0m, in \u001B[0;36mfetch_pos_tags\u001B[1;34m(ud_parses, pos_vocab)\u001B[0m\n\u001B[0;32m     21\u001B[0m \u001B[38;5;28;01mfor\u001B[39;00m sentence \u001B[38;5;129;01min\u001B[39;00m tqdm(ud_parses):\n\u001B[0;32m     22\u001B[0m     \u001B[38;5;28;01mfor\u001B[39;00m token \u001B[38;5;129;01min\u001B[39;00m sentence:\n\u001B[1;32m---> 23\u001B[0m         pos_tags\u001B[38;5;241m.\u001B[39mappend(\u001B[43mpos_vocab\u001B[49m\u001B[43m[\u001B[49m\u001B[43mtoken\u001B[49m\u001B[43m[\u001B[49m\u001B[38;5;124;43m'\u001B[39;49m\u001B[38;5;124;43mupos\u001B[39;49m\u001B[38;5;124;43m'\u001B[39;49m\u001B[43m]\u001B[49m\u001B[43m]\u001B[49m)\n\u001B[0;32m     25\u001B[0m \u001B[38;5;28;01mreturn\u001B[39;00m torch\u001B[38;5;241m.\u001B[39mtensor(pos_tags), pos_vocab\n",
      "\u001B[1;31mKeyError\u001B[0m: 'X'"
     ]
    }
   ],
   "source": [
    "import os\n",
    "\n",
    "# Function that combines the previous functions, and creates 2 tensors for a .conllu file:\n",
    "# 1 containing the token representations, and 1 containing the (tokenized) pos_tags.\n",
    "\n",
    "def create_data(ud_parses, filename: str, lm, w2i, pos_vocab=None):\n",
    "    ud_parses = parse_corpus(filename)\n",
    "\n",
    "    sen_reps = fetch_sen_reps(ud_parses, lm, w2i) #it is sentence rep)\n",
    "    pos_tags, pos_vocab = fetch_pos_tags(ud_parses, pos_vocab=pos_vocab) #\n",
    "\n",
    "    return sen_reps, pos_tags, pos_vocab\n",
    "\n",
    "\n",
    "lm = model  # or `lstm`\n",
    "w2i = tokenizer  # or `vocab`\n",
    "use_sample = True\n",
    "\n",
    "train_x, train_y, train_vocab = create_data(\n",
    "    ud_parses,\n",
    "    os.path.join('data', 'sample' if use_sample else '', 'en_ewt-ud-train.conllu'),\n",
    "    lm,\n",
    "    w2i\n",
    ")\n",
    "\n",
    "dev_x, dev_y, _ = create_data(\n",
    "    ud_parses,\n",
    "    os.path.join('data', 'sample' if use_sample else '', 'en_ewt-ud-dev.conllu'),\n",
    "    lm,\n",
    "    w2i,\n",
    "    pos_vocab=train_vocab\n",
    ")\n",
    "\n",
    "test_x, test_y, _ = create_data(\n",
    "    ud_parses,\n",
    "    os.path.join('data', 'sample' if use_sample else '', 'en_ewt-ud-test.conllu'),\n",
    "    lm,\n",
    "    w2i,\n",
    "    pos_vocab=train_vocab\n",
    ")"
   ]
  },
  {
   "cell_type": "code",
   "execution_count": 66,
   "outputs": [
    {
     "name": "stderr",
     "output_type": "stream",
     "text": [
      "100%|██████████| 90/90 [00:04<00:00, 21.38it/s]\n"
     ]
    },
    {
     "data": {
      "text/plain": "tensor([[-0.0933,  0.3294, -0.0741,  ..., -0.1959,  0.1348, -0.1345],\n        [-0.0933,  0.3294, -0.0741,  ..., -0.1959,  0.1348, -0.1345],\n        [-0.0933,  0.3294, -0.0741,  ..., -0.1959,  0.1348, -0.1345],\n        ...,\n        [-0.0933,  0.3294, -0.0741,  ..., -0.1959,  0.1348, -0.1345],\n        [-0.0933,  0.3294, -0.0741,  ..., -0.1959,  0.1348, -0.1345],\n        [-0.0933,  0.3294, -0.0741,  ..., -0.1959,  0.1348, -0.1345]])"
     },
     "execution_count": 66,
     "metadata": {},
     "output_type": "execute_result"
    }
   ],
   "source": [
    "fetch_sen_reps(ud_parses, lm, w2i)"
   ],
   "metadata": {
    "collapsed": false
   }
  },
  {
   "cell_type": "markdown",
   "metadata": {},
   "source": [
    "# Diagnostic Classification\n",
    "\n",
    "We now have our models, our data, _and_ our representations all set! Hurray, well done. We can finally move onto the cool stuff, i.e. training the diagnostic classifiers (DCs).\n",
    "\n",
    "DCs are simple in their complexity on purpose. To read more about why this is the case you could already have a look at the \"Designing and Interpreting Probes with Control Tasks\" by Hewitt and Liang (esp. Sec. 3.2).\n",
    "\n",
    "A simple linear classifier will suffice for now, don't bother with adding fancy non-linearities to it.\n",
    "\n",
    "I am personally a fan of the `skorch` library, that provides `sklearn`-like functionalities for training `torch` models, but you are free to train your dc using whatever method you prefer.\n",
    "\n",
    "As this is an Artificial Intelligence master and you have all done ML1 + DL, I expect you to use your train/dev/test splits correctly ;-)"
   ]
  },
  {
   "cell_type": "code",
   "execution_count": 50,
   "metadata": {},
   "outputs": [],
   "source": [
    "from typing import Any\n",
    "from pytorch_lightning.utilities.types import STEP_OUTPUT\n",
    "from torch import nn\n",
    "import pytorch_lightning as pl\n",
    "from torch.optim import Adam\n",
    "\n",
    "\n",
    "# DIAGNOSTIC CLASSIFIER\n",
    "class DiagnosticClassifier(pl.LightningModule):\n",
    "    def __init__(self, input_dim, output_dim):\n",
    "        super().__init__()\n",
    "        self.linear = nn.Linear(input_dim, output_dim)\n",
    "\n",
    "    def forward(self, x):\n",
    "        return self.linear(x)\n",
    "\n",
    "    def training_step(self, batch, batch_idx):\n",
    "        x, y = batch\n",
    "        y_hat = self(x)\n",
    "        loss = nn.CrossEntropyLoss()(y_hat, y)\n",
    "\n",
    "        self.log('train_loss', loss)\n",
    "\n",
    "        # accuracy\n",
    "        y_hat = torch.argmax(y_hat, dim=1)\n",
    "        acc = (y_hat == y).sum() / len(y)\n",
    "        self.log('train_acc', acc)\n",
    "        return loss\n",
    "\n",
    "    def validation_step(self, *args: Any, **kwargs: Any) -> Optional[STEP_OUTPUT]:\n",
    "        return self.training_step(*args, **kwargs)\n",
    "\n",
    "    def configure_optimizers(self):\n",
    "        return torch.optim.Adam(self.parameters(), lr=0.02)\n",
    "\n"
   ]
  },
  {
   "cell_type": "code",
   "execution_count": 51,
   "outputs": [
    {
     "name": "stderr",
     "output_type": "stream",
     "text": [
      "GPU available: False, used: False\n",
      "TPU available: False, using: 0 TPU cores\n",
      "IPU available: False, using: 0 IPUs\n",
      "HPU available: False, using: 0 HPUs\n",
      "C:\\Users\\cinth\\Documentos\\ams\\data_science\\y1\\nlp2\\dataspell1\\nlp2-probing-lms\\venv\\lib\\site-packages\\pytorch_lightning\\trainer\\connectors\\logger_connector\\logger_connector.py:67: UserWarning: Starting from v1.9.0, `tensorboardX` has been removed as a dependency of the `pytorch_lightning` package, due to potential conflicts with other packages in the ML ecosystem. For this reason, `logger=True` will use `CSVLogger` as the default logger, unless the `tensorboard` or `tensorboardX` packages are found. Please `pip install lightning[extra]` or one of them to enable TensorBoard support by default\n",
      "  warning_cache.warn(\n",
      "C:\\Users\\cinth\\Documentos\\ams\\data_science\\y1\\nlp2\\dataspell1\\nlp2-probing-lms\\venv\\lib\\site-packages\\pytorch_lightning\\trainer\\configuration_validator.py:72: PossibleUserWarning: You defined a `validation_step` but have no `val_dataloader`. Skipping val loop.\n",
      "  rank_zero_warn(\n",
      "Missing logger folder: C:\\Users\\cinth\\Documentos\\ams\\data_science\\y1\\nlp2\\dataspell1\\nlp2-probing-lms\\lightning_logs\n",
      "\n",
      "  | Name   | Type   | Params\n",
      "----------------------------------\n",
      "0 | linear | Linear | 10.8 K\n",
      "----------------------------------\n",
      "10.8 K    Trainable params\n",
      "0         Non-trainable params\n",
      "10.8 K    Total params\n",
      "0.043     Total estimated model params size (MB)\n",
      "C:\\Users\\cinth\\Documentos\\ams\\data_science\\y1\\nlp2\\dataspell1\\nlp2-probing-lms\\venv\\lib\\site-packages\\pytorch_lightning\\trainer\\connectors\\data_connector.py:430: PossibleUserWarning: The dataloader, train_dataloader, does not have many workers which may be a bottleneck. Consider increasing the value of the `num_workers` argument` (try 20 which is the number of cpus on this machine) in the `DataLoader` init to improve performance.\n",
      "  rank_zero_warn(\n"
     ]
    },
    {
     "data": {
      "text/plain": "Training: 0it [00:00, ?it/s]",
      "application/vnd.jupyter.widget-view+json": {
       "version_major": 2,
       "version_minor": 0,
       "model_id": "512b84e05a054a9d920bf68e7631ec2e"
      }
     },
     "metadata": {},
     "output_type": "display_data"
    },
    {
     "name": "stderr",
     "output_type": "stream",
     "text": [
      "`Trainer.fit` stopped: `max_epochs=20` reached.\n"
     ]
    }
   ],
   "source": [
    "# import lightning\n",
    "from pytorch_lightning import Trainer\n",
    "\n",
    "diagnostic_classifier = DiagnosticClassifier(train_x.shape[1], train_y.max() + 1)\n",
    "\n",
    "train_loader = torch.utils.data.DataLoader(\n",
    "    torch.utils.data.TensorDataset(train_x, train_y),\n",
    "    batch_size=32,\n",
    "    shuffle=True\n",
    ")\n",
    "\n",
    "# train the model (hint: here are some helpful Trainer arguments for rapid idea iteration)\n",
    "trainer = Trainer(limit_train_batches=100, max_epochs=20)\n",
    "trainer.fit(model=diagnostic_classifier, train_dataloaders=train_loader)"
   ],
   "metadata": {
    "collapsed": false
   }
  },
  {
   "cell_type": "code",
   "execution_count": 55,
   "outputs": [
    {
     "ename": "NameError",
     "evalue": "name 'dev_x' is not defined",
     "output_type": "error",
     "traceback": [
      "\u001B[1;31m---------------------------------------------------------------------------\u001B[0m",
      "\u001B[1;31mNameError\u001B[0m                                 Traceback (most recent call last)",
      "Cell \u001B[1;32mIn[55], line 6\u001B[0m\n\u001B[0;32m      1\u001B[0m \u001B[38;5;66;03m# validate\u001B[39;00m\n\u001B[0;32m      2\u001B[0m \u001B[38;5;66;03m# prepare validation data\u001B[39;00m\n\u001B[0;32m      5\u001B[0m val_loader \u001B[38;5;241m=\u001B[39m torch\u001B[38;5;241m.\u001B[39mutils\u001B[38;5;241m.\u001B[39mdata\u001B[38;5;241m.\u001B[39mDataLoader(\n\u001B[1;32m----> 6\u001B[0m     torch\u001B[38;5;241m.\u001B[39mutils\u001B[38;5;241m.\u001B[39mdata\u001B[38;5;241m.\u001B[39mTensorDataset(\u001B[43mdev_x\u001B[49m, dev_y),\n\u001B[0;32m      7\u001B[0m     batch_size\u001B[38;5;241m=\u001B[39m\u001B[38;5;241m32\u001B[39m,\n\u001B[0;32m      8\u001B[0m     shuffle\u001B[38;5;241m=\u001B[39m\u001B[38;5;28;01mTrue\u001B[39;00m\n\u001B[0;32m      9\u001B[0m )\n\u001B[0;32m     11\u001B[0m trainer\u001B[38;5;241m.\u001B[39mvalidate(model\u001B[38;5;241m=\u001B[39mdiagnostic_classifier, dataloaders\u001B[38;5;241m=\u001B[39mval_loader)\n",
      "\u001B[1;31mNameError\u001B[0m: name 'dev_x' is not defined"
     ]
    }
   ],
   "source": [
    "# validate\n",
    "# prepare validation data\n",
    "\n",
    "\n",
    "val_loader = torch.utils.data.DataLoader(\n",
    "    torch.utils.data.TensorDataset(dev_x, dev_y),\n",
    "    batch_size=32,\n",
    "    shuffle=True\n",
    ")\n",
    "\n",
    "trainer.validate(model=diagnostic_classifier, dataloaders=val_loader)"
   ],
   "metadata": {
    "collapsed": false
   }
  },
  {
   "cell_type": "markdown",
   "metadata": {},
   "source": [
    "# Trees\n",
    "\n",
    "For our gold labels, we need to recover the node distances from our parse tree. For this we will use the functionality provided by `ete3`, that allows us to compute that directly. I have provided code that transforms a `TokenTree` to a `Tree` in `ete3` format."
   ]
  },
  {
   "cell_type": "code",
   "execution_count": 73,
   "metadata": {},
   "outputs": [],
   "source": [
    "# In case you want to transform your conllu tree to an nltk.Tree, for better visualisation\n",
    "\n",
    "def rec_tokentree_to_nltk(tokentree):\n",
    "    token = tokentree.token[\"form\"]\n",
    "    tree_str = f\"({token} {' '.join(rec_tokentree_to_nltk(t) for t in tokentree.children)})\"\n",
    "\n",
    "    return tree_str\n",
    "\n",
    "\n",
    "def tokentree_to_nltk(tokentree):\n",
    "    from nltk import Tree as NLTKTree\n",
    "\n",
    "    tree_str = rec_tokentree_to_nltk(tokentree)\n",
    "\n",
    "    return NLTKTree.fromstring(tree_str)"
   ]
  },
  {
   "cell_type": "code",
   "execution_count": 74,
   "metadata": {},
   "outputs": [],
   "source": [
    "# !pip install ete3\n",
    "from ete3 import Tree as EteTree\n",
    "\n",
    "\n",
    "class FancyTree(EteTree):\n",
    "    def __init__(self, *args, **kwargs):\n",
    "        super().__init__(*args, format=1, **kwargs)\n",
    "        \n",
    "    def __str__(self):\n",
    "        return self.get_ascii(show_internal=True)\n",
    "    \n",
    "    def __repr__(self):\n",
    "        return str(self)\n",
    "\n",
    "\n",
    "def rec_tokentree_to_ete(tokentree):\n",
    "    idx = str(tokentree.token[\"id\"])\n",
    "    children = tokentree.children\n",
    "    if children:\n",
    "        return f\"({','.join(rec_tokentree_to_ete(t) for t in children)}){idx}\"\n",
    "    else:\n",
    "        return idx\n",
    "    \n",
    "def tokentree_to_ete(tokentree):\n",
    "    newick_str = rec_tokentree_to_ete(tokentree)\n",
    "\n",
    "    return FancyTree(f\"{newick_str};\")"
   ]
  },
  {
   "cell_type": "code",
   "execution_count": 75,
   "metadata": {},
   "outputs": [
    {
     "name": "stdout",
     "output_type": "stream",
     "text": [
      "\n",
      "   /-2\n",
      "  |\n",
      "  |--3\n",
      "  |\n",
      "  |--4\n",
      "  |\n",
      "  |   /6 /-5\n",
      "  |  |\n",
      "  |  |   /-9\n",
      "  |  |  |\n",
      "  |  |  |--10\n",
      "  |  |  |\n",
      "  |  |  |--11\n",
      "  |  |-8|\n",
      "  |  |  |--12\n",
      "  |-7|  |\n",
      "  |  |  |--13\n",
      "  |  |  |\n",
      "  |  |   \\15/-14\n",
      "-1|  |\n",
      "  |  |   /-16\n",
      "  |  |  |\n",
      "  |  |  |--17\n",
      "  |  |  |\n",
      "  |   \\18   /-19\n",
      "  |     |  |\n",
      "  |     |  |--20\n",
      "  |     |  |\n",
      "  |     |  |-23/-22\n",
      "  |      \\21\n",
      "  |        |--24\n",
      "  |        |\n",
      "  |        |   /-25\n",
      "  |        |  |\n",
      "  |         \\28--26\n",
      "  |           |\n",
      "  |            \\-27\n",
      "  |\n",
      "   \\-29\n"
     ]
    }
   ],
   "source": [
    "# Let's check if it works!\n",
    "# We can read in a corpus using the code that was already provided, and convert it to an ete3 Tree.\n",
    "\n",
    "def parse_corpus(filename):\n",
    "    from conllu import parse_incr\n",
    "\n",
    "    data_file = open(filename, encoding=\"utf-8\")\n",
    "\n",
    "    ud_parses = list(parse_incr(data_file))\n",
    "    \n",
    "    return ud_parses\n",
    "\n",
    "corpus = parse_corpus('data/sample/en_ewt-ud-train.conllu')\n",
    "item = corpus[0]\n",
    "tokentree = item.to_tree()\n",
    "ete3_tree = tokentree_to_ete(tokentree)\n",
    "print(ete3_tree)"
   ]
  },
  {
   "cell_type": "markdown",
   "metadata": {},
   "source": [
    "As you can see we label a token by its token id (converted to a string). Based on these id's we are going to retrieve the node distances.\n",
    "\n",
    "To create the true distances of a parse tree in our treebank, we are going to use the `.get_distance` method that is provided by `ete3`: http://etetoolkit.org/docs/latest/tutorial/tutorial_trees.html#working-with-branch-distances\n",
    "\n",
    "We will store all these distances in a `torch.Tensor`.\n",
    "\n",
    "Please fill in the gap in the following method. I recommend you to have a good look at Hewitt's blog post  about these node distances."
   ]
  },
  {
   "cell_type": "code",
   "execution_count": 76,
   "metadata": {},
   "outputs": [],
   "source": [
    "def create_gold_distances(corpus):\n",
    "    all_distances = []\n",
    "\n",
    "    for item in (corpus):\n",
    "        tokentree = item.to_tree()\n",
    "        ete_tree = tokentree_to_ete(tokentree)\n",
    "\n",
    "        sen_len = len(ete_tree.search_nodes())\n",
    "        distances = torch.zeros((sen_len, sen_len))\n",
    "\n",
    "        # Your code for computing all the distances comes here.\n",
    "\n",
    "        all_distances.append(distances)\n",
    "\n",
    "    return all_distances"
   ]
  },
  {
   "cell_type": "markdown",
   "metadata": {},
   "source": [
    "The next step is now to do the previous step the other way around. After all, we are mainly interested in predicting the node distances of a sentence, in order to recreate the corresponding parse tree.\n",
    "\n",
    "Hewitt et al. reconstruct a parse tree based on a _minimum spanning tree_ (MST, https://en.wikipedia.org/wiki/Minimum_spanning_tree). Fortunately for us, we can simply import a method from `scipy` that retrieves this MST."
   ]
  },
  {
   "cell_type": "code",
   "execution_count": 77,
   "metadata": {},
   "outputs": [],
   "source": [
    "\n",
    "from scipy.sparse.csgraph import minimum_spanning_tree\n",
    "import torch\n",
    "\n",
    "\n",
    "def create_mst(distances):\n",
    "    distances = torch.triu(distances).detach().numpy()\n",
    "    \n",
    "    mst = minimum_spanning_tree(distances).toarray()\n",
    "    mst[mst>0] = 1.\n",
    "    \n",
    "    return mst"
   ]
  },
  {
   "cell_type": "markdown",
   "metadata": {},
   "source": [
    "Let's have a look at what this looks like, by looking at a relatively short sentence in the sample corpus.\n",
    "\n",
    "If your addition to the `create_gold_distances` method has been correct, you should be able to run the following snippet. This then shows you the original parse tree, the distances between the nodes, and the MST that is retrieved from these distances. Can you spot the edges in the MST matrix that correspond to the edges in the parse tree?"
   ]
  },
  {
   "cell_type": "code",
   "execution_count": 79,
   "metadata": {},
   "outputs": [
    {
     "name": "stdout",
     "output_type": "stream",
     "text": [
      "\n",
      "   /2 /-1\n",
      "  |\n",
      "  |--3\n",
      "  |\n",
      "  |--4\n",
      "  |\n",
      "  |   /-6\n",
      "  |  |\n",
      "-5|  |--7\n",
      "  |-8|\n",
      "  |  |   /-9\n",
      "  |  |  |\n",
      "  |   \\12--10\n",
      "  |     |\n",
      "  |      \\-11\n",
      "  |\n",
      "   \\-13 \n",
      "\n",
      "tensor([[0., 0., 0., 0., 0., 0., 0., 0., 0., 0., 0., 0., 0.],\n",
      "        [0., 0., 0., 0., 0., 0., 0., 0., 0., 0., 0., 0., 0.],\n",
      "        [0., 0., 0., 0., 0., 0., 0., 0., 0., 0., 0., 0., 0.],\n",
      "        [0., 0., 0., 0., 0., 0., 0., 0., 0., 0., 0., 0., 0.],\n",
      "        [0., 0., 0., 0., 0., 0., 0., 0., 0., 0., 0., 0., 0.],\n",
      "        [0., 0., 0., 0., 0., 0., 0., 0., 0., 0., 0., 0., 0.],\n",
      "        [0., 0., 0., 0., 0., 0., 0., 0., 0., 0., 0., 0., 0.],\n",
      "        [0., 0., 0., 0., 0., 0., 0., 0., 0., 0., 0., 0., 0.],\n",
      "        [0., 0., 0., 0., 0., 0., 0., 0., 0., 0., 0., 0., 0.],\n",
      "        [0., 0., 0., 0., 0., 0., 0., 0., 0., 0., 0., 0., 0.],\n",
      "        [0., 0., 0., 0., 0., 0., 0., 0., 0., 0., 0., 0., 0.],\n",
      "        [0., 0., 0., 0., 0., 0., 0., 0., 0., 0., 0., 0., 0.],\n",
      "        [0., 0., 0., 0., 0., 0., 0., 0., 0., 0., 0., 0., 0.]]) \n",
      "\n",
      "[[0. 0. 0. 0. 0. 0. 0. 0. 0. 0. 0. 0. 0.]\n",
      " [0. 0. 0. 0. 0. 0. 0. 0. 0. 0. 0. 0. 0.]\n",
      " [0. 0. 0. 0. 0. 0. 0. 0. 0. 0. 0. 0. 0.]\n",
      " [0. 0. 0. 0. 0. 0. 0. 0. 0. 0. 0. 0. 0.]\n",
      " [0. 0. 0. 0. 0. 0. 0. 0. 0. 0. 0. 0. 0.]\n",
      " [0. 0. 0. 0. 0. 0. 0. 0. 0. 0. 0. 0. 0.]\n",
      " [0. 0. 0. 0. 0. 0. 0. 0. 0. 0. 0. 0. 0.]\n",
      " [0. 0. 0. 0. 0. 0. 0. 0. 0. 0. 0. 0. 0.]\n",
      " [0. 0. 0. 0. 0. 0. 0. 0. 0. 0. 0. 0. 0.]\n",
      " [0. 0. 0. 0. 0. 0. 0. 0. 0. 0. 0. 0. 0.]\n",
      " [0. 0. 0. 0. 0. 0. 0. 0. 0. 0. 0. 0. 0.]\n",
      " [0. 0. 0. 0. 0. 0. 0. 0. 0. 0. 0. 0. 0.]\n",
      " [0. 0. 0. 0. 0. 0. 0. 0. 0. 0. 0. 0. 0.]]\n"
     ]
    }
   ],
   "source": [
    "item = corpus[5]\n",
    "tokentree = item.to_tree()\n",
    "ete3_tree = tokentree_to_ete(tokentree)\n",
    "print(ete3_tree, '\\n')\n",
    "\n",
    "gold_distance = create_gold_distances(corpus[5:6])[0]\n",
    "print(gold_distance, '\\n')\n",
    "\n",
    "mst = create_mst(gold_distance)\n",
    "print(mst)"
   ]
  },
  {
   "cell_type": "markdown",
   "metadata": {},
   "source": [
    "Now that we are able to map edge distances back to parse trees, we can create code for our quantitative evaluation. For this we will use the Undirected Unlabeled Attachment Score (UUAS), which is expressed as:\n",
    "\n",
    "$$\\frac{\\text{number of predicted edges that are an edge in the gold parse tree}}{\\text{number of edges in the gold parse tree}}$$\n",
    "\n",
    "To do this, we will need to obtain all the edges from our MST matrix. Note that, since we are using undirected trees, that an edge can be expressed in 2 ways: an edge between node $i$ and node $j$ is denoted by both `mst[i,j] = 1`, or `mst[j,i] = 1`.\n",
    "\n",
    "You will write code that computes the UUAS score for a matrix of predicted distances, and the corresponding gold distances. I recommend you to split this up into 2 methods: 1 that retrieves the edges that are present in an MST matrix, and one general method that computes the UUAS score."
   ]
  },
  {
   "cell_type": "code",
   "execution_count": 83,
   "metadata": {},
   "outputs": [],
   "source": [
    "#retrieving the edges from the MST matrix\n",
    "def edges(mst):\n",
    "    edges = set()\n",
    "    for i in range(len(mst)):\n",
    "        for j in range(i+1, len(mst)):\n",
    "            if mst[i,j] == 1 or mst[j,i] == 1:\n",
    "                edges.add((i,j))\n",
    "    return edges\n",
    "\n",
    "#UUUAS score\n",
    "\n",
    "def calc_uuas(pred_distances, gold_distances):\n",
    "    pred_mst = create_mst(pred_distances)\n",
    "    gold_mst = create_mst(gold_distances)\n",
    "    pred_edges = edges(pred_mst)\n",
    "    gold_edges = edges(gold_mst)\n",
    "    intersect = pred_edges.intersection(gold_edges)\n",
    "    uuas = len(intersect) / len(gold_edges)\n",
    "    return uuas\n"
   ]
  },
  {
   "cell_type": "markdown",
   "metadata": {},
   "source": [
    "# Structural Probes\n",
    "\n",
    "We now have everything in place to start doing the actual exciting stuff: training our structural probe!\n",
    "    \n",
    "To make life easier for you, we will simply take the `torch` code for this probe from John Hewitt's repository. This allows you to focus on the training regime from now on."
   ]
  },
  {
   "cell_type": "code",
   "execution_count": null,
   "metadata": {},
   "outputs": [],
   "source": [
    "import torch.nn as nn\n",
    "import torch\n",
    "\n",
    "\n",
    "class StructuralProbe(nn.Module):\n",
    "    \"\"\" Computes squared L2 distance after projection by a matrix.\n",
    "    For a batch of sentences, computes all n^2 pairs of distances\n",
    "    for each sentence in the batch.\n",
    "    \"\"\"\n",
    "    def __init__(self, model_dim, rank, device=\"cpu\"):\n",
    "        super().__init__()\n",
    "        self.probe_rank = rank\n",
    "        self.model_dim = model_dim\n",
    "        \n",
    "        self.proj = nn.Parameter(data = torch.zeros(self.model_dim, self.probe_rank))\n",
    "        \n",
    "        nn.init.uniform_(self.proj, -0.05, 0.05)\n",
    "        self.to(device)\n",
    "\n",
    "    def forward(self, batch):\n",
    "        \"\"\" Computes all n^2 pairs of distances after projection\n",
    "        for each sentence in a batch.\n",
    "        Note that due to padding, some distances will be non-zero for pads.\n",
    "        Computes (B(h_i-h_j))^T(B(h_i-h_j)) for all i,j\n",
    "        Args:\n",
    "          batch: a batch of word representations of the shape\n",
    "            (batch_size, max_seq_len, representation_dim)\n",
    "        Returns:\n",
    "          A tensor of distances of shape (batch_size, max_seq_len, max_seq_len)\n",
    "        \"\"\"\n",
    "        transformed = torch.matmul(batch, self.proj)\n",
    "        \n",
    "        batchlen, seqlen, rank = transformed.size()\n",
    "        \n",
    "        transformed = transformed.unsqueeze(2)\n",
    "        transformed = transformed.expand(-1, -1, seqlen, -1)\n",
    "        transposed = transformed.transpose(1,2)\n",
    "        \n",
    "        diffs = transformed - transposed\n",
    "        \n",
    "        squared_diffs = diffs.pow(2)\n",
    "        squared_distances = torch.sum(squared_diffs, -1)\n",
    "\n",
    "        return squared_distances\n",
    "\n",
    "    \n",
    "class L1DistanceLoss(nn.Module):\n",
    "    \"\"\"Custom L1 loss for distance matrices.\"\"\"\n",
    "    def __init__(self):\n",
    "        super().__init__()\n",
    "\n",
    "    def forward(self, predictions, label_batch, length_batch):\n",
    "        \"\"\" Computes L1 loss on distance matrices.\n",
    "        Ignores all entries where label_batch=-1\n",
    "        Normalizes first within sentences (by dividing by the square of the sentence length)\n",
    "        and then across the batch.\n",
    "        Args:\n",
    "          predictions: A pytorch batch of predicted distances\n",
    "          label_batch: A pytorch batch of true distances\n",
    "          length_batch: A pytorch batch of sentence lengths\n",
    "        Returns:\n",
    "          A tuple of:\n",
    "            batch_loss: average loss in the batch\n",
    "            total_sents: number of sentences in the batch\n",
    "        \"\"\"\n",
    "        labels_1s = (label_batch != -1).float()\n",
    "        predictions_masked = predictions * labels_1s\n",
    "        labels_masked = label_batch * labels_1s\n",
    "        total_sents = torch.sum((length_batch != 0)).float()\n",
    "        squared_lengths = length_batch.pow(2).float()\n",
    "\n",
    "        if total_sents > 0:\n",
    "            loss_per_sent = torch.sum(torch.abs(predictions_masked - labels_masked), dim=(1,2))\n",
    "            normalized_loss_per_sent = loss_per_sent / squared_lengths\n",
    "            batch_loss = torch.sum(normalized_loss_per_sent) / total_sents\n",
    "        \n",
    "        else:\n",
    "            batch_loss = torch.tensor(0.0)\n",
    "        \n",
    "        return batch_loss, total_sents\n"
   ]
  },
  {
   "cell_type": "markdown",
   "metadata": {},
   "source": [
    "I have provided a rough outline for the training regime that you can use. Note that the hyper parameters that I provide here only serve as an indication, but should be (briefly) explored by yourself.\n",
    "\n",
    "As can be seen in Hewitt's code above, there exists functionality in the probe to deal with batched input. It is up to you to use that: a (less efficient) method can still incorporate batches by doing multiple forward passes for a batch and computing the backward pass only once for the summed losses of all these forward passes. (_I know, this is not the way to go, but in the interest of time that is allowed ;-), the purpose of the assignment is writing a good paper after all_)."
   ]
  },
  {
   "cell_type": "code",
   "execution_count": 90,
   "metadata": {},
   "outputs": [],
   "source": [
    "from torch import optim\n",
    "\n",
    "'''\n",
    "Similar to the `create_data` method of the previous notebook, I recommend you to use a method \n",
    "that initialises all the data of a corpus. Note that for your embeddings you can use the \n",
    "`fetch_sen_reps` method again. However, for the POS probe you concatenated all these representations into \n",
    "1 big tensor of shape (num_tokens_in_corpus, model_dim). \n",
    "\n",
    "The StructuralProbe expects its input to contain all the representations of 1 sentence, so I recommend you\n",
    "to update your `fetch_sen_reps` method in a way that it is easy to retrieve all the representations that \n",
    "correspond to a single sentence.\n",
    "''' \n",
    "\n",
    "def init_corpus(path, concat=False, cutoff=None):\n",
    "    \"\"\" Initialises the data of a corpus.\n",
    "    \n",
    "    Parameters\n",
    "    ----------\n",
    "    path : str\n",
    "        Path to corpus location\n",
    "    concat : bool, optional\n",
    "        Optional toggle to concatenate all the tensors\n",
    "        returned by `fetch_sen_reps`.\n",
    "    cutoff : int, optional\n",
    "        Optional integer to \"cutoff\" the data in the corpus.\n",
    "        This allows only a subset to be used, alleviating \n",
    "        memory usage.\n",
    "    \"\"\"\n",
    "    corpus = parse_corpus(path)[:cutoff]\n",
    "\n",
    "    embs = fetch_sen_reps(corpus, model, tokenizer, concat=concat)    \n",
    "    gold_distances = create_gold_distances(corpus)\n",
    "    \n",
    "    return gold_distances, embs\n",
    "\n",
    "\n",
    "# I recommend you to write a method that can evaluate the UUAS & loss score for the dev (& test) corpus.\n",
    "# Feel free to alter the signature of this method.\n",
    "def evaluate_probe(probe, _data):\n",
    "    # YOUR CODE HERE\n",
    "    loss_function = L1DistanceLoss()\n",
    "    uuas_total = 0\n",
    "    loss_total = 0\n",
    "\n",
    "    for sent in _data:\n",
    "        embeddings = [probe.model.embeddings[word] for word in sent.words]\n",
    "        dependencies = sent.dependencies\n",
    "        preds = probe(embeddings)\n",
    "\n",
    "        for i, dependency in enumerate(dependencies):\n",
    "            head = dependency[0]\n",
    "            dependent = dependency[1]\n",
    "            score = preds[head][dependent]\n",
    "            gold_label = 1 if i in sent.heads else 0\n",
    "            loss = loss_function(score.unsqueeze(0), torch.tensor([gold_label]))\n",
    "            loss_total += loss.item()\n",
    "\n",
    "        uuas_total += compute_uuas(dependencies, preds)\n",
    "\n",
    "    loss_score = loss_total / len(_data)\n",
    "    uuas_score = uuas_total / len(_data)\n",
    "    return loss_score, uuas_score\n",
    "\n",
    "\n",
    "# Feel free to alter the signature of this method.\n",
    "def train(_data):\n",
    "    emb_dim = 768\n",
    "    rank = 64\n",
    "    lr = 10e-4\n",
    "    batch_size = 24\n",
    "\n",
    "    probe = StructuralProbe(emb_dim, rank)\n",
    "    optimizer = optim.Adam(probe.parameters(), lr=lr)\n",
    "    scheduler = optim.lr_scheduler.ReduceLROnPlateau(optimizer, mode='min', factor=0.5,patience=1)\n",
    "    loss_function =  L1DistanceLoss()\n",
    "\n",
    "    for epoch in range(epochs):\n",
    "        running_loss = 0.0\n",
    "        running_uuas = 0.0\n",
    "\n",
    "\n",
    "        for i in range(0, len(corpus), batch_size):\n",
    "            optimizer.zero_grad()\n",
    "            batch = _data.train_data[i:i+batch_size]\n",
    "\n",
    "            # YOUR CODE FOR DOING A PROBE FORWARD PASS\n",
    "            embeddings = probe(batch)\n",
    "            batch_loss = loss_function(embeddings, batch)\n",
    "            batch_loss.backward()\n",
    "            optimizer.step()\n",
    "\n",
    "            running_loss += batch_loss.item()\n",
    "            running_uuas += uuas(batch, embeddings)\n",
    "\n",
    "        # average loss and UUAS score for this epoch\n",
    "        epoch_loss = running_loss / len(_data.train_data)\n",
    "        epoch_uuas = running_uuas / len(_data.train_data)\n",
    "\n",
    "        dev_loss, dev_uuas = evaluate_probe(probe, _data.dev_data)\n",
    "        scheduler.step(dev_loss)\n",
    "\n",
    "\n",
    "\n",
    "\n",
    "    test_loss, test_uuas = evaluate_probe(probe, _data.test_data)"
   ]
  },
  {
   "cell_type": "markdown",
   "metadata": {},
   "source": [
    "## LaTeX trees"
   ]
  },
  {
   "cell_type": "markdown",
   "metadata": {},
   "source": [
    "For your report you might want to add some of those fancy dependency tree plots like those of Figure 2 in the Structural Probing paper. For that you can use the following code, that outputs the corresponding LaTeX markup.\n",
    "\n",
    "**N.B.**: for the latex tikz tree the first token in a sentence has index 1 (instead of 0), so take that into account with the predicted and gold edges that you pass to the method."
   ]
  },
  {
   "cell_type": "code",
   "execution_count": 89,
   "metadata": {},
   "outputs": [],
   "source": [
    "def print_tikz(predicted_edges, gold_edges, words):\n",
    "    \"\"\" Turns edge sets on word (nodes) into tikz dependency LaTeX.\n",
    "    Parameters\n",
    "    ----------\n",
    "    predicted_edges : Set[Tuple[int, int]]\n",
    "        Set (or list) of edge tuples, as predicted by your probe.\n",
    "    gold_edges : Set[Tuple[int, int]]\n",
    "        Set (or list) of gold edge tuples, as obtained from the treebank.\n",
    "    words : List[str]\n",
    "        List of strings representing the tokens in the sentence.\n",
    "    \"\"\"\n",
    "\n",
    "    string = \"\"\"\\\\begin{dependency}[hide label, edge unit distance=.5ex]\n",
    "    \\\\begin{deptext}[column sep=0.05cm]\n",
    "    \"\"\"\n",
    "\n",
    "    string += (\n",
    "        \"\\\\& \".join([x.replace(\"$\", \"\\$\").replace(\"&\", \"+\") for x in words])\n",
    "        + \" \\\\\\\\\\n\"\n",
    "    )\n",
    "    string += \"\\\\end{deptext}\" + \"\\n\"\n",
    "    for i_index, j_index in gold_edges:\n",
    "        string += \"\\\\depedge[-]{{{}}}{{{}}}{{{}}}\\n\".format(i_index, j_index, \".\")\n",
    "    for i_index, j_index in predicted_edges:\n",
    "        string += f\"\\\\depedge[-,edge style={{red!60!}}, edge below]{{{i_index}}}{{{j_index}}}{{.}}\\n\"\n",
    "    string += \"\\\\end{dependency}\\n\"\n",
    "    print(string)\n"
   ]
  }
 ],
 "metadata": {
  "kernelspec": {
   "display_name": "Python 3",
   "language": "python",
   "name": "python3"
  },
  "language_info": {
   "codemirror_mode": {
    "name": "ipython",
    "version": 3
   },
   "file_extension": ".py",
   "mimetype": "text/x-python",
   "name": "python",
   "nbconvert_exporter": "python",
   "pygments_lexer": "ipython3",
   "version": "3.8.5"
  },
  "toc": {
   "base_numbering": 1,
   "nav_menu": {},
   "number_sections": true,
   "sideBar": true,
   "skip_h1_title": false,
   "title_cell": "Table of Contents",
   "title_sidebar": "Contents",
   "toc_cell": false,
   "toc_position": {},
   "toc_section_display": true,
   "toc_window_display": false
  }
 },
 "nbformat": 4,
 "nbformat_minor": 4
}
